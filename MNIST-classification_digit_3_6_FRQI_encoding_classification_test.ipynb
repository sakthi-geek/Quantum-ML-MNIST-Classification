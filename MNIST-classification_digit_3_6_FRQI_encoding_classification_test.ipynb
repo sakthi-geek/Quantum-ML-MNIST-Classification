{
 "cells": [
  {
   "cell_type": "code",
   "execution_count": 101,
   "metadata": {
    "pycharm": {
     "is_executing": true
    }
   },
   "outputs": [],
   "source": [
    "import pennylane as qml\n",
    "import tensorflow as tf\n",
    "import sklearn.datasets\n",
    "from sklearn.datasets import fetch_openml\n",
    "\n",
    "import numpy as np\n",
    "\n",
    "from matplotlib import pyplot as plt\n",
    "\n",
    "tf.keras.backend.set_floatx('float64')"
   ]
  },
  {
   "cell_type": "code",
   "execution_count": 102,
   "metadata": {},
   "outputs": [
    {
     "name": "stdout",
     "output_type": "stream",
     "text": [
      "3.9.13 (tags/v3.9.13:6de2ca5, May 17 2022, 16:36:42) [MSC v.1929 64 bit (AMD64)]\n"
     ]
    }
   ],
   "source": [
    "import sys\n",
    "print(sys.version)"
   ]
  },
  {
   "attachments": {},
   "cell_type": "markdown",
   "metadata": {},
   "source": [
    "## Load and reduce the data\n",
    "\n",
    "Load the MNIST data and check number of training and test examples"
   ]
  },
  {
   "cell_type": "code",
   "execution_count": 103,
   "metadata": {},
   "outputs": [
    {
     "name": "stdout",
     "output_type": "stream",
     "text": [
      "Number of original training examples: 60000\n",
      "Number of original test examples: 10000\n"
     ]
    }
   ],
   "source": [
    "(x_train, y_train), (x_test, y_test) = tf.keras.datasets.mnist.load_data()\n",
    "\n",
    "# Rescale the images from [0,255] to the [0.0,1.0] range.\n",
    "x_train, x_test = x_train[..., np.newaxis]/255.0, x_test[..., np.newaxis]/255.0  # add colour dimension\n",
    "\n",
    "print(\"Number of original training examples:\", len(x_train))\n",
    "print(\"Number of original test examples:\", len(x_test))"
   ]
  },
  {
   "attachments": {},
   "cell_type": "markdown",
   "metadata": {},
   "source": [
    "Create a function to filter out only 3 and 6"
   ]
  },
  {
   "cell_type": "code",
   "execution_count": 104,
   "metadata": {},
   "outputs": [],
   "source": [
    "def filter_36(x, y):\n",
    "    keep = (y == 3) | (y == 6)\n",
    "    x, y = x[keep], y[keep]\n",
    "    y = y == 3\n",
    "    return x,y"
   ]
  },
  {
   "cell_type": "code",
   "execution_count": 105,
   "metadata": {},
   "outputs": [
    {
     "name": "stdout",
     "output_type": "stream",
     "text": [
      "Number of filtered training examples: 12049\n",
      "Number of filtered test examples: 1968\n"
     ]
    }
   ],
   "source": [
    "x_train, y_train = filter_36(x_train, y_train)\n",
    "x_test, y_test = filter_36(x_test, y_test)\n",
    "\n",
    "print(\"Number of filtered training examples:\", len(x_train))\n",
    "print(\"Number of filtered test examples:\", len(x_test))"
   ]
  },
  {
   "attachments": {},
   "cell_type": "markdown",
   "metadata": {},
   "source": [
    "Plot the original images"
   ]
  },
  {
   "cell_type": "code",
   "execution_count": 106,
   "metadata": {},
   "outputs": [
    {
     "data": {
      "image/png": "[encoded data removed]",
      "text/plain": [
       "<Figure size 640x480 with 1 Axes>"
      ]
     },
     "metadata": {},
     "output_type": "display_data"
    }
   ],
   "source": [
    "plt.imshow(x_train[0, :, :, 0], cmap='Greys')\n",
    "ax = plt.gca()\n",
    "ax.set_xticks([])\n",
    "ax.set_yticks([])\n",
    "plt.title(\"28x28 image of a 0\", fontsize=20)\n",
    "# save to file as pdf\n",
    "plt.savefig('28x28_MNIST_0.pdf', bbox_inches='tight', pad_inches=0)\n",
    "plt.show()"
   ]
  },
  {
   "attachments": {},
   "cell_type": "markdown",
   "metadata": {},
   "source": [
    "Reduce images to 3x3"
   ]
  },
  {
   "cell_type": "code",
   "execution_count": 107,
   "metadata": {},
   "outputs": [],
   "source": [
    "# x_train_small = tf.image.resize(x_train, (3,3)).numpy()\n",
    "# x_test_small = tf.image.resize(x_test, (3,3)).numpy()"
   ]
  },
  {
   "cell_type": "code",
   "execution_count": 108,
   "metadata": {},
   "outputs": [],
   "source": [
    "# plt.imshow(x_train_small[0,:,:,0], vmin=0, vmax=1, cmap='Greys')\n",
    "# ax = plt.gca()\n",
    "# ax.set_xticks([])\n",
    "# ax.set_yticks([])\n",
    "# plt.title(\"9x9 image of a 0\", fontsize=20)\n",
    "# # save to file as pdf\n",
    "# plt.savefig('9x9_MNIST_0.pdf', bbox_inches='tight', pad_inches=0)\n",
    "# plt.show()"
   ]
  },
  {
   "attachments": {},
   "cell_type": "markdown",
   "metadata": {},
   "source": [
    "Flatten 28x28 to 784x1"
   ]
  },
  {
   "cell_type": "code",
   "execution_count": 109,
   "metadata": {},
   "outputs": [
    {
     "data": {
      "image/png": "[encoded data removed]",
      "text/plain": [
       "<Figure size 640x480 with 1 Axes>"
      ]
     },
     "metadata": {},
     "output_type": "display_data"
    }
   ],
   "source": [
    "# x_train_small = x_train_small[:,4,:,:].reshape((-1,9))  # take only central slices\n",
    "# x_test_small = x_test_small[:,4,:,:].reshape((-1,9))  # take only central slices\n",
    "\n",
    "x_train_small = x_train.reshape((-1,784))  \n",
    "x_test_small = x_test.reshape((-1,784))  \n",
    "\n",
    "plt.imshow(x_train_small[0,:].reshape((1,-1)), vmin=0, vmax=1, cmap='Greys')\n",
    "ax = plt.gca()\n",
    "ax.set_xticks([])\n",
    "ax.set_yticks([])\n",
    "plt.title(\"784x1 image of a 0\", fontsize=20)\n",
    "# save to file as pdf\n",
    "plt.savefig('784x1_MNIST_0.pdf', bbox_inches='tight', pad_inches=0)\n",
    "plt.show()\n"
   ]
  },
  {
   "cell_type": "code",
   "execution_count": 110,
   "metadata": {},
   "outputs": [
    {
     "name": "stdout",
     "output_type": "stream",
     "text": [
      "784\n",
      "(12049, 784)\n"
     ]
    },
    {
     "data": {
      "text/plain": [
       "(1968, 784)"
      ]
     },
     "execution_count": 110,
     "metadata": {},
     "output_type": "execute_result"
    }
   ],
   "source": [
    "print(len(x_train_small[0]))\n",
    "print(x_train_small.shape)\n",
    "x_test_small.shape\n"
   ]
  },
  {
   "cell_type": "code",
   "execution_count": 111,
   "metadata": {},
   "outputs": [
    {
     "data": {
      "text/plain": [
       "784"
      ]
     },
     "execution_count": 111,
     "metadata": {},
     "output_type": "execute_result"
    }
   ],
   "source": [
    "len(x_train_small[0,:])\n"
   ]
  },
  {
   "cell_type": "code",
   "execution_count": 112,
   "metadata": {},
   "outputs": [],
   "source": [
    "# x_train_small_amplitude_encoded = qml.AmplitudeEmbedding(x_train_small, wires=range(10), pad_with=0.0, normalize=True)  # for pennylane 0.11.0\n",
    "# print(x_train_small_amplitude_encoded.parameters)\n",
    "# print(len(x_train_small_amplitude_encoded.parameters[0]))\n",
    "# len(x_train_small_amplitude_encoded.parameters[0][0])"
   ]
  },
  {
   "cell_type": "code",
   "execution_count": 113,
   "metadata": {},
   "outputs": [],
   "source": [
    "# x_test_small_amplitude_encoded = qml.AmplitudeEmbedding(x_test_small, wires=range(10), pad_with=0.0, normalize=True)  # for pennylane 0.11.0\n",
    "# print(x_test_small_amplitude_encoded.parameters)\n",
    "# print(len(x_test_small_amplitude_encoded.parameters[0]))\n",
    "# len(x_test_small_amplitude_encoded.parameters[0][0])"
   ]
  },
  {
   "cell_type": "code",
   "execution_count": 114,
   "metadata": {},
   "outputs": [
    {
     "data": {
      "text/plain": [
       "0.0"
      ]
     },
     "execution_count": 114,
     "metadata": {},
     "output_type": "execute_result"
    }
   ],
   "source": [
    "np.min(x_train_small[0,:])"
   ]
  },
  {
   "cell_type": "code",
   "execution_count": 115,
   "metadata": {},
   "outputs": [
    {
     "data": {
      "text/plain": [
       "1.0"
      ]
     },
     "execution_count": 115,
     "metadata": {},
     "output_type": "execute_result"
    }
   ],
   "source": [
    "np.sum((x_train_small[0,:]/np.sqrt(np.sum(x_train_small[0,:]**2)))**2)"
   ]
  },
  {
   "cell_type": "code",
   "execution_count": 116,
   "metadata": {},
   "outputs": [
    {
     "name": "stdout",
     "output_type": "stream",
     "text": [
      "(784,)\n",
      "(1, 784)\n"
     ]
    }
   ],
   "source": [
    "print(x_train_small[0,:].shape)\n",
    "print(x_train_small[0,:].reshape(1, -1).shape)\n",
    "# pd.Series(x_train_small[0,:]).value_counts()"
   ]
  },
  {
   "cell_type": "code",
   "execution_count": 117,
   "metadata": {},
   "outputs": [
    {
     "data": {
      "text/plain": [
       "(1, 1568)"
      ]
     },
     "execution_count": 117,
     "metadata": {},
     "output_type": "execute_result"
    }
   ],
   "source": [
    "frqi_encoded_x_train[0,:].reshape(1, -1).shape"
   ]
  },
  {
   "cell_type": "code",
   "execution_count": 118,
   "metadata": {},
   "outputs": [
    {
     "data": {
      "text/plain": [
       "array([[0., 0., 0., ..., 0., 0., 0.],\n",
       "       [0., 0., 0., ..., 0., 0., 0.],\n",
       "       [0., 0., 0., ..., 0., 0., 0.],\n",
       "       ...,\n",
       "       [0., 0., 0., ..., 0., 0., 0.],\n",
       "       [0., 0., 0., ..., 0., 0., 0.],\n",
       "       [0., 0., 0., ..., 0., 0., 0.]])"
      ]
     },
     "execution_count": 118,
     "metadata": {},
     "output_type": "execute_result"
    }
   ],
   "source": [
    "x_train_small"
   ]
  },
  {
   "cell_type": "code",
   "execution_count": 119,
   "metadata": {},
   "outputs": [
    {
     "name": "stdout",
     "output_type": "stream",
     "text": [
      "(12049, 1568)\n",
      "(1968, 1568)\n"
     ]
    }
   ],
   "source": [
    "import math\n",
    "import numpy as np\n",
    "\n",
    "def frqi_amplitudes(inputs):\n",
    "    frqi_encoded_inputs = []\n",
    "    for i in range(inputs.shape[0]):\n",
    "        frqi_encoded_input = []\n",
    "        for j in range(inputs.shape[1]):\n",
    "            frqi_encoded_input.append((1/np.sqrt(inputs.shape[1]))*(math.cos((math.pi*inputs[i][j])/2)))\n",
    "            frqi_encoded_input.append((1/np.sqrt(inputs.shape[1]))*(math.sin((math.pi*inputs[i][j])/2)))\n",
    "        frqi_encoded_inputs.append(frqi_encoded_input)\n",
    "        \n",
    "    return np.array(frqi_encoded_inputs)\n",
    "\n",
    "frqi_encoded_x_train = frqi_amplitudes(x_train_small)\n",
    "print(frqi_encoded_x_train.shape)\n",
    "frqi_encoded_x_test = frqi_amplitudes(x_test_small)\n",
    "print(frqi_encoded_x_test.shape)"
   ]
  },
  {
   "cell_type": "code",
   "execution_count": 120,
   "metadata": {},
   "outputs": [
    {
     "name": "stdout",
     "output_type": "stream",
     "text": [
      "(1568,)\n",
      "784\n",
      "784\n"
     ]
    }
   ],
   "source": [
    "print((frqi_encoded_x_train[0,:].shape))\n",
    "print(len(frqi_encoded_x_train[0,:][::2]))\n",
    "print(len(frqi_encoded_x_train[0,:][1::2]))"
   ]
  },
  {
   "cell_type": "code",
   "execution_count": 121,
   "metadata": {},
   "outputs": [
    {
     "data": {
      "text/plain": [
       "0.9999999999999998"
      ]
     },
     "execution_count": 121,
     "metadata": {},
     "output_type": "execute_result"
    }
   ],
   "source": [
    "np.sum(frqi_encoded_x_train[1,:]**2)"
   ]
  },
  {
   "cell_type": "code",
   "execution_count": null,
   "metadata": {},
   "outputs": [],
   "source": []
  },
  {
   "attachments": {},
   "cell_type": "markdown",
   "metadata": {},
   "source": [
    "## Set up the Quantum Neural Network\n",
    "\n",
    "Create quantum circuit using pennylane qnode, then conver this to a Keras layer to make a Keras model"
   ]
  },
  {
   "cell_type": "code",
   "execution_count": null,
   "metadata": {},
   "outputs": [],
   "source": []
  },
  {
   "cell_type": "code",
   "execution_count": 122,
   "metadata": {},
   "outputs": [
    {
     "name": "stdout",
     "output_type": "stream",
     "text": [
      "1/1 [==============================] - 0s 390ms/step\n",
      "Model: \"QNN\"\n",
      "_________________________________________________________________\n",
      " Layer (type)                Output Shape              Param #   \n",
      "=================================================================\n",
      " inputs (InputLayer)         [(None, 1568)]            0         \n",
      "                                                                 \n",
      " quantumLayer (KerasLayer)   (None, 1)                 63        \n",
      "                                                                 \n",
      "=================================================================\n",
      "Total params: 63\n",
      "Trainable params: 63\n",
      "Non-trainable params: 0\n",
      "_________________________________________________________________\n",
      "None\n"
     ]
    }
   ],
   "source": [
    "\n",
    "def frqi_embedding(encoded_inputs, n_qubits):\n",
    "    n_values = len(encoded_inputs)\n",
    "    n_padding = 2**n_qubits - n_values\n",
    "    state_vector = np.pad(encoded_inputs, (0, n_padding), constant_values=(0, 0))\n",
    "    qml.QubitStateVector(state_vector, wires=range(n_qubits))\n",
    "\n",
    "\n",
    "n_qubits = 11\n",
    "n_layers = 1\n",
    "dev = qml.device(\"default.qubit\", wires=n_qubits)\n",
    "\n",
    "@qml.qnode(dev, diff_method=\"adjoint\")\n",
    "def qnode(inputs, weights):\n",
    "\n",
    "    frqi_embedding(inputs, n_qubits)\n",
    "        \n",
    "    for jj in range(n_layers):\n",
    "        for ii in range(n_qubits-1):\n",
    "            qml.RZ(weights[jj,2*ii,0], wires=0)\n",
    "            qml.RY(weights[jj,2*ii,1], wires=0)\n",
    "            qml.RZ(weights[jj,2*ii,2], wires=0)\n",
    "\n",
    "            qml.RZ(weights[jj,2*ii+1,0], wires=ii+1)\n",
    "            qml.RY(weights[jj,2*ii+1,1], wires=ii+1)\n",
    "            qml.RZ(weights[jj,2*ii+1,2], wires=ii+1)\n",
    "\n",
    "            #qml.U3(*list(weights[jj,2*ii,:]), wires=0)\n",
    "            #qml.U3(*list(weights[jj,2*ii+1,:]), wires=ii+1)\n",
    "            qml.CNOT(wires=[ii+1,0])\n",
    "            \n",
    "        qml.RZ(weights[jj,2*(n_qubits-1),0], wires=0)\n",
    "        qml.RY(weights[jj,2*(n_qubits-1),1], wires=0)\n",
    "        qml.RZ(weights[jj,2*(n_qubits-1),2], wires=0)\n",
    "\n",
    "    return qml.expval(qml.PauliZ(0))\n",
    "\n",
    "weight_shapes = {\"weights\": (n_layers, 2*(n_qubits-1)+1, 3) }\n",
    "\n",
    "\n",
    "qlayer = qml.qnn.KerasLayer(qnode, weight_shapes, output_dim=1, name=\"quantumLayer\")\n",
    "inputs = tf.keras.Input(shape=(1568,), name=\"inputs\")\n",
    "\n",
    "outputs = qlayer(inputs)\n",
    "model = tf.keras.Model(inputs=inputs, outputs=outputs, name=\"QNN\")\n",
    "\n",
    "testImage = x_train_small[1,:]  /np.sqrt(np.sum(x_train_small[1,:]**2))\n",
    "# print(testImage)\n",
    "# normalization_factor = np.sqrt(np.sum(np.abs(frqi_encoded_x_train[0,:])**2))\n",
    "# normalized_frqi_encoded_image = frqi_encoded_x_train[0,:] / normalization_factor\n",
    "model.predict(frqi_encoded_x_train[0,:].reshape(1, -1)) #.reshape(1, -1))\n",
    "print(model.summary())"
   ]
  },
  {
   "attachments": {},
   "cell_type": "markdown",
   "metadata": {},
   "source": [
    "Redefine the classification values to match the Hinge loss"
   ]
  },
  {
   "cell_type": "code",
   "execution_count": 123,
   "metadata": {},
   "outputs": [],
   "source": [
    "y_train_hinge = 2.0*y_train-1.0\n",
    "y_test_hinge = 2.0*y_test-1.0"
   ]
  },
  {
   "attachments": {},
   "cell_type": "markdown",
   "metadata": {},
   "source": [
    "Define the hinge accuracy"
   ]
  },
  {
   "cell_type": "code",
   "execution_count": 124,
   "metadata": {},
   "outputs": [],
   "source": [
    "def hinge_accuracy(y_true, y_pred):\n",
    "    y_true = tf.squeeze(y_true) > 0.0\n",
    "    y_pred = tf.squeeze(y_pred) > 0.0\n",
    "    result = tf.cast(y_true == y_pred, tf.float32)\n",
    "\n",
    "    return tf.reduce_mean(result)"
   ]
  },
  {
   "attachments": {},
   "cell_type": "markdown",
   "metadata": {},
   "source": [
    "## Compile and train the model\n",
    "\n",
    "Compile the model using the hinge loss and accuracy and the Adam optimiser"
   ]
  },
  {
   "cell_type": "code",
   "execution_count": 125,
   "metadata": {},
   "outputs": [],
   "source": [
    "model.compile(\n",
    "    loss=tf.keras.losses.Hinge(),\n",
    "    optimizer=tf.keras.optimizers.Adam(),\n",
    "    metrics=[hinge_accuracy])"
   ]
  },
  {
   "cell_type": "code",
   "execution_count": 126,
   "metadata": {},
   "outputs": [
    {
     "name": "stdout",
     "output_type": "stream",
     "text": [
      "Model: \"QNN\"\n",
      "_________________________________________________________________\n",
      " Layer (type)                Output Shape              Param #   \n",
      "=================================================================\n",
      " inputs (InputLayer)         [(None, 1568)]            0         \n",
      "                                                                 \n",
      " quantumLayer (KerasLayer)   (None, 1)                 63        \n",
      "                                                                 \n",
      "=================================================================\n",
      "Total params: 63\n",
      "Trainable params: 63\n",
      "Non-trainable params: 0\n",
      "_________________________________________________________________\n",
      "None\n"
     ]
    }
   ],
   "source": [
    "print(model.summary())"
   ]
  },
  {
   "attachments": {},
   "cell_type": "markdown",
   "metadata": {},
   "source": [
    "Train the model over 20 epochs"
   ]
  },
  {
   "cell_type": "code",
   "execution_count": 127,
   "metadata": {},
   "outputs": [
    {
     "name": "stdout",
     "output_type": "stream",
     "text": [
      "512\n",
      "Epoch 1/60\n",
      "16/16 [==============================] - 165s 11s/step - loss: 0.9956 - hinge_accuracy: 0.6621 - val_loss: 0.9960 - val_hinge_accuracy: 0.6411\n",
      "Epoch 2/60\n",
      "16/16 [==============================] - 160s 10s/step - loss: 0.9941 - hinge_accuracy: 0.6934 - val_loss: 0.9944 - val_hinge_accuracy: 0.6749\n",
      "Epoch 3/60\n",
      "16/16 [==============================] - 163s 11s/step - loss: 0.9928 - hinge_accuracy: 0.7266 - val_loss: 0.9931 - val_hinge_accuracy: 0.7011\n",
      "Epoch 4/60\n",
      "16/16 [==============================] - 164s 11s/step - loss: 0.9915 - hinge_accuracy: 0.7559 - val_loss: 0.9918 - val_hinge_accuracy: 0.7167\n",
      "Epoch 5/60\n",
      "16/16 [==============================] - 159s 10s/step - loss: 0.9903 - hinge_accuracy: 0.7598 - val_loss: 0.9904 - val_hinge_accuracy: 0.7288\n",
      "Epoch 6/60\n",
      "16/16 [==============================] - 161s 10s/step - loss: 0.9889 - hinge_accuracy: 0.7793 - val_loss: 0.9890 - val_hinge_accuracy: 0.7384\n",
      "Epoch 7/60\n",
      "16/16 [==============================] - 166s 11s/step - loss: 0.9874 - hinge_accuracy: 0.7852 - val_loss: 0.9875 - val_hinge_accuracy: 0.7530\n",
      "Epoch 8/60\n",
      "16/16 [==============================] - 160s 10s/step - loss: 0.9858 - hinge_accuracy: 0.7930 - val_loss: 0.9858 - val_hinge_accuracy: 0.7661\n",
      "Epoch 9/60\n",
      "16/16 [==============================] - 166s 11s/step - loss: 0.9840 - hinge_accuracy: 0.8066 - val_loss: 0.9841 - val_hinge_accuracy: 0.7797\n",
      "Epoch 10/60\n",
      "16/16 [==============================] - 190s 12s/step - loss: 0.9821 - hinge_accuracy: 0.8223 - val_loss: 0.9823 - val_hinge_accuracy: 0.7954\n",
      "Epoch 11/60\n",
      "16/16 [==============================] - 189s 12s/step - loss: 0.9802 - hinge_accuracy: 0.8320 - val_loss: 0.9805 - val_hinge_accuracy: 0.8059\n",
      "Epoch 12/60\n",
      "16/16 [==============================] - 146s 9s/step - loss: 0.9783 - hinge_accuracy: 0.8477 - val_loss: 0.9785 - val_hinge_accuracy: 0.8165\n",
      "Epoch 13/60\n",
      "16/16 [==============================] - 166s 11s/step - loss: 0.9763 - hinge_accuracy: 0.8574 - val_loss: 0.9767 - val_hinge_accuracy: 0.8291\n",
      "Epoch 14/60\n",
      "16/16 [==============================] - 164s 11s/step - loss: 0.9744 - hinge_accuracy: 0.8652 - val_loss: 0.9747 - val_hinge_accuracy: 0.8483\n",
      "Epoch 15/60\n",
      "16/16 [==============================] - 158s 10s/step - loss: 0.9725 - hinge_accuracy: 0.8848 - val_loss: 0.9727 - val_hinge_accuracy: 0.8589\n",
      "Epoch 16/60\n",
      "16/16 [==============================] - 170s 11s/step - loss: 0.9706 - hinge_accuracy: 0.8926 - val_loss: 0.9707 - val_hinge_accuracy: 0.8664\n",
      "Epoch 17/60\n",
      "16/16 [==============================] - 172s 11s/step - loss: 0.9687 - hinge_accuracy: 0.8984 - val_loss: 0.9688 - val_hinge_accuracy: 0.8755\n",
      "Epoch 18/60\n",
      "16/16 [==============================] - 162s 11s/step - loss: 0.9669 - hinge_accuracy: 0.9004 - val_loss: 0.9669 - val_hinge_accuracy: 0.8861\n",
      "Epoch 19/60\n",
      "16/16 [==============================] - 158s 10s/step - loss: 0.9650 - hinge_accuracy: 0.9023 - val_loss: 0.9647 - val_hinge_accuracy: 0.8936\n",
      "Epoch 20/60\n",
      "16/16 [==============================] - 164s 11s/step - loss: 0.9630 - hinge_accuracy: 0.9082 - val_loss: 0.9624 - val_hinge_accuracy: 0.8967\n",
      "Epoch 21/60\n",
      "16/16 [==============================] - 155s 10s/step - loss: 0.9608 - hinge_accuracy: 0.9102 - val_loss: 0.9602 - val_hinge_accuracy: 0.9123\n",
      "Epoch 22/60\n",
      "16/16 [==============================] - 160s 10s/step - loss: 0.9585 - hinge_accuracy: 0.9160 - val_loss: 0.9576 - val_hinge_accuracy: 0.9194\n",
      "Epoch 23/60\n",
      "16/16 [==============================] - 159s 10s/step - loss: 0.9558 - hinge_accuracy: 0.9238 - val_loss: 0.9547 - val_hinge_accuracy: 0.9284\n",
      "Epoch 24/60\n",
      "16/16 [==============================] - 169s 11s/step - loss: 0.9528 - hinge_accuracy: 0.9395 - val_loss: 0.9514 - val_hinge_accuracy: 0.9385\n",
      "Epoch 25/60\n",
      "16/16 [==============================] - 163s 11s/step - loss: 0.9493 - hinge_accuracy: 0.9570 - val_loss: 0.9478 - val_hinge_accuracy: 0.9491\n",
      "Epoch 26/60\n",
      "16/16 [==============================] - 163s 11s/step - loss: 0.9457 - hinge_accuracy: 0.9531 - val_loss: 0.9439 - val_hinge_accuracy: 0.9587\n",
      "Epoch 27/60\n",
      "16/16 [==============================] - 155s 10s/step - loss: 0.9416 - hinge_accuracy: 0.9570 - val_loss: 0.9399 - val_hinge_accuracy: 0.9647\n",
      "Epoch 28/60\n",
      "16/16 [==============================] - 157s 10s/step - loss: 0.9377 - hinge_accuracy: 0.9629 - val_loss: 0.9362 - val_hinge_accuracy: 0.9657\n",
      "Epoch 29/60\n",
      "16/16 [==============================] - 167s 11s/step - loss: 0.9342 - hinge_accuracy: 0.9707 - val_loss: 0.9328 - val_hinge_accuracy: 0.9672\n",
      "Epoch 30/60\n",
      "16/16 [==============================] - 171s 11s/step - loss: 0.9310 - hinge_accuracy: 0.9668 - val_loss: 0.9298 - val_hinge_accuracy: 0.9657\n",
      "Epoch 31/60\n",
      "16/16 [==============================] - 175s 11s/step - loss: 0.9282 - hinge_accuracy: 0.9629 - val_loss: 0.9271 - val_hinge_accuracy: 0.9642\n",
      "Epoch 32/60\n",
      "16/16 [==============================] - 174s 11s/step - loss: 0.9259 - hinge_accuracy: 0.9648 - val_loss: 0.9248 - val_hinge_accuracy: 0.9642\n",
      "Epoch 33/60\n",
      "16/16 [==============================] - 171s 11s/step - loss: 0.9239 - hinge_accuracy: 0.9648 - val_loss: 0.9228 - val_hinge_accuracy: 0.9637\n",
      "Epoch 34/60\n",
      "16/16 [==============================] - 165s 11s/step - loss: 0.9222 - hinge_accuracy: 0.9648 - val_loss: 0.9211 - val_hinge_accuracy: 0.9642\n",
      "Epoch 35/60\n",
      "16/16 [==============================] - 171s 11s/step - loss: 0.9208 - hinge_accuracy: 0.9629 - val_loss: 0.9197 - val_hinge_accuracy: 0.9657\n",
      "Epoch 36/60\n",
      "16/16 [==============================] - 174s 11s/step - loss: 0.9196 - hinge_accuracy: 0.9629 - val_loss: 0.9184 - val_hinge_accuracy: 0.9657\n",
      "Epoch 37/60\n",
      "16/16 [==============================] - 172s 11s/step - loss: 0.9186 - hinge_accuracy: 0.9629 - val_loss: 0.9172 - val_hinge_accuracy: 0.9652\n",
      "Epoch 38/60\n",
      "16/16 [==============================] - 167s 11s/step - loss: 0.9177 - hinge_accuracy: 0.9629 - val_loss: 0.9162 - val_hinge_accuracy: 0.9657\n",
      "Epoch 39/60\n",
      "16/16 [==============================] - 164s 11s/step - loss: 0.9169 - hinge_accuracy: 0.9629 - val_loss: 0.9154 - val_hinge_accuracy: 0.9652\n",
      "Epoch 40/60\n",
      "16/16 [==============================] - 164s 11s/step - loss: 0.9162 - hinge_accuracy: 0.9629 - val_loss: 0.9146 - val_hinge_accuracy: 0.9647\n",
      "Epoch 41/60\n",
      "16/16 [==============================] - 197s 13s/step - loss: 0.9155 - hinge_accuracy: 0.9629 - val_loss: 0.9138 - val_hinge_accuracy: 0.9662\n",
      "Epoch 42/60\n",
      "16/16 [==============================] - 194s 13s/step - loss: 0.9150 - hinge_accuracy: 0.9629 - val_loss: 0.9131 - val_hinge_accuracy: 0.9672\n",
      "Epoch 43/60\n",
      "16/16 [==============================] - 200s 13s/step - loss: 0.9145 - hinge_accuracy: 0.9629 - val_loss: 0.9126 - val_hinge_accuracy: 0.9667\n",
      "Epoch 44/60\n",
      "16/16 [==============================] - 140s 9s/step - loss: 0.9140 - hinge_accuracy: 0.9629 - val_loss: 0.9121 - val_hinge_accuracy: 0.9662\n",
      "Epoch 45/60\n",
      "16/16 [==============================] - 161s 10s/step - loss: 0.9136 - hinge_accuracy: 0.9648 - val_loss: 0.9114 - val_hinge_accuracy: 0.9667\n",
      "Epoch 46/60\n",
      "16/16 [==============================] - 165s 11s/step - loss: 0.9132 - hinge_accuracy: 0.9648 - val_loss: 0.9111 - val_hinge_accuracy: 0.9662\n",
      "Epoch 47/60\n",
      "16/16 [==============================] - 162s 11s/step - loss: 0.9128 - hinge_accuracy: 0.9648 - val_loss: 0.9106 - val_hinge_accuracy: 0.9667\n",
      "Epoch 48/60\n",
      "16/16 [==============================] - 157s 10s/step - loss: 0.9124 - hinge_accuracy: 0.9648 - val_loss: 0.9101 - val_hinge_accuracy: 0.9667\n",
      "Epoch 49/60\n",
      "16/16 [==============================] - 161s 10s/step - loss: 0.9121 - hinge_accuracy: 0.9648 - val_loss: 0.9097 - val_hinge_accuracy: 0.9672\n",
      "Epoch 50/60\n",
      "16/16 [==============================] - 198s 13s/step - loss: 0.9118 - hinge_accuracy: 0.9648 - val_loss: 0.9093 - val_hinge_accuracy: 0.9677\n",
      "Epoch 51/60\n",
      "16/16 [==============================] - 204s 13s/step - loss: 0.9115 - hinge_accuracy: 0.9648 - val_loss: 0.9091 - val_hinge_accuracy: 0.9662\n",
      "Epoch 52/60\n",
      "16/16 [==============================] - 175s 11s/step - loss: 0.9112 - hinge_accuracy: 0.9668 - val_loss: 0.9086 - val_hinge_accuracy: 0.9688\n",
      "Epoch 53/60\n",
      "16/16 [==============================] - 170s 11s/step - loss: 0.9109 - hinge_accuracy: 0.9668 - val_loss: 0.9083 - val_hinge_accuracy: 0.9688\n",
      "Epoch 54/60\n",
      "16/16 [==============================] - 187s 12s/step - loss: 0.9106 - hinge_accuracy: 0.9688 - val_loss: 0.9079 - val_hinge_accuracy: 0.9688\n",
      "Epoch 55/60\n",
      "16/16 [==============================] - 186s 12s/step - loss: 0.9104 - hinge_accuracy: 0.9688 - val_loss: 0.9077 - val_hinge_accuracy: 0.9693\n",
      "Epoch 56/60\n",
      "16/16 [==============================] - 183s 12s/step - loss: 0.9101 - hinge_accuracy: 0.9688 - val_loss: 0.9074 - val_hinge_accuracy: 0.9688\n",
      "Epoch 57/60\n",
      "16/16 [==============================] - 183s 12s/step - loss: 0.9099 - hinge_accuracy: 0.9707 - val_loss: 0.9071 - val_hinge_accuracy: 0.9698\n",
      "Epoch 58/60\n",
      "16/16 [==============================] - 189s 12s/step - loss: 0.9097 - hinge_accuracy: 0.9688 - val_loss: 0.9069 - val_hinge_accuracy: 0.9698\n",
      "Epoch 59/60\n",
      "16/16 [==============================] - 182s 12s/step - loss: 0.9095 - hinge_accuracy: 0.9707 - val_loss: 0.9066 - val_hinge_accuracy: 0.9703\n",
      "Epoch 60/60\n",
      "16/16 [==============================] - 136s 9s/step - loss: 0.9093 - hinge_accuracy: 0.9707 - val_loss: 0.9064 - val_hinge_accuracy: 0.9703\n",
      "62/62 [==============================] - 95s 2s/step - loss: 0.9064 - hinge_accuracy: 0.9703\n"
     ]
    }
   ],
   "source": [
    "EPOCHS = 60\n",
    "BATCH_SIZE = 32\n",
    "\n",
    "NUM_EXAMPLES = 512 #x_train_small.shape[0]\n",
    "print(NUM_EXAMPLES)\n",
    "\n",
    "x_train_sub = frqi_encoded_x_train[:NUM_EXAMPLES,:]\n",
    "y_train_hinge_sub = y_train_hinge[:NUM_EXAMPLES]\n",
    "\n",
    "x_test_sub = frqi_encoded_x_test[:,:]\n",
    "y_test_sub = y_test_hinge[:]\n",
    "\n",
    "qnn_history_1layer = model.fit(\n",
    "      x_train_sub, y_train_hinge_sub,\n",
    "      batch_size=BATCH_SIZE,\n",
    "      epochs=EPOCHS,\n",
    "      verbose=1,\n",
    "      validation_data=(x_test_sub, y_test_sub))\n",
    "\n",
    "qnn_results_1layer = model.evaluate(x_test_sub, y_test_sub)"
   ]
  },
  {
   "cell_type": "code",
   "execution_count": 37,
   "metadata": {},
   "outputs": [
    {
     "data": {
      "text/plain": [
       "{'loss': [1.0311012004276647,\n",
       "  1.0250235319926155,\n",
       "  1.0196964403169266,\n",
       "  1.01471133509908,\n",
       "  1.0100750765270405,\n",
       "  1.0057250716143638,\n",
       "  1.0009896193803847,\n",
       "  0.9957717999531648,\n",
       "  0.9896753822553016,\n",
       "  0.9819768965700593,\n",
       "  0.9721370079199381,\n",
       "  0.9601083144325306,\n",
       "  0.9455391640256816,\n",
       "  0.928394949393776,\n",
       "  0.9081673062703529,\n",
       "  0.8866051146235268,\n",
       "  0.8629914383864971,\n",
       "  0.8387328861895731,\n",
       "  0.8150649491568883,\n",
       "  0.7914782382059122],\n",
       " 'hinge_accuracy': [0.5234375,\n",
       "  0.52734375,\n",
       "  0.529296875,\n",
       "  0.52734375,\n",
       "  0.525390625,\n",
       "  0.525390625,\n",
       "  0.525390625,\n",
       "  0.5234375,\n",
       "  0.525390625,\n",
       "  0.52734375,\n",
       "  0.5390625,\n",
       "  0.548828125,\n",
       "  0.556640625,\n",
       "  0.55859375,\n",
       "  0.576171875,\n",
       "  0.615234375,\n",
       "  0.708984375,\n",
       "  0.724609375,\n",
       "  0.73828125,\n",
       "  0.7421875],\n",
       " 'val_loss': [0.9706141030427916,\n",
       "  0.9666631520010215,\n",
       "  0.9631757426577569,\n",
       "  0.9599528235616132,\n",
       "  0.9570048701414415,\n",
       "  0.9541040429850104,\n",
       "  0.9508285935730798,\n",
       "  0.9465670882763517,\n",
       "  0.9410590800215068,\n",
       "  0.9339222861640597,\n",
       "  0.9251077415356528,\n",
       "  0.9139745693390401,\n",
       "  0.9005195923536294,\n",
       "  0.8842109225836988,\n",
       "  0.8665555730548927,\n",
       "  0.8465089090313334,\n",
       "  0.8255748700225556,\n",
       "  0.8044325894418344,\n",
       "  0.7829407966026624,\n",
       "  0.7618677993521087],\n",
       " 'val_hinge_accuracy': [0.5564516129032258,\n",
       "  0.5539314516129032,\n",
       "  0.5539314516129032,\n",
       "  0.5483870967741935,\n",
       "  0.5509072580645161,\n",
       "  0.5529233870967742,\n",
       "  0.5549395161290323,\n",
       "  0.5544354838709677,\n",
       "  0.5579637096774194,\n",
       "  0.5640120967741935,\n",
       "  0.5700604838709677,\n",
       "  0.5761088709677419,\n",
       "  0.5836693548387096,\n",
       "  0.5987903225806451,\n",
       "  0.6229838709677419,\n",
       "  0.6829637096774194,\n",
       "  0.7278225806451613,\n",
       "  0.7328629032258065,\n",
       "  0.7404233870967742,\n",
       "  0.7474798387096774]}"
      ]
     },
     "execution_count": 37,
     "metadata": {},
     "output_type": "execute_result"
    }
   ],
   "source": [
    "qnn_history_1layer.history"
   ]
  },
  {
   "attachments": {},
   "cell_type": "markdown",
   "metadata": {},
   "source": [
    "Create and train a 2 layer version of the QNN"
   ]
  },
  {
   "cell_type": "code",
   "execution_count": 38,
   "metadata": {},
   "outputs": [
    {
     "name": "stdout",
     "output_type": "stream",
     "text": [
      "1/1 [==============================] - 0s 174ms/step\n",
      "Model: \"QNN\"\n",
      "_________________________________________________________________\n",
      " Layer (type)                Output Shape              Param #   \n",
      "=================================================================\n",
      " inputs (InputLayer)         [(None, 9)]               0         \n",
      "                                                                 \n",
      " quantumLayer (KerasLayer)   (None, 1)                 102       \n",
      "                                                                 \n",
      "=================================================================\n",
      "Total params: 102\n",
      "Trainable params: 102\n",
      "Non-trainable params: 0\n",
      "_________________________________________________________________\n",
      "None\n"
     ]
    }
   ],
   "source": [
    "n_qubits = 9\n",
    "n_layers = 2\n",
    "dev = qml.device(\"default.qubit\", wires=n_qubits)\n",
    "\n",
    "@qml.qnode(dev, diff_method=\"adjoint\")\n",
    "def qnode(inputs, weights):\n",
    "\n",
    "    for ii in range(n_qubits):\n",
    "        qml.RY(np.pi * inputs[ii], wires=ii)\n",
    "\n",
    "    for jj in range(n_layers):\n",
    "        for ii in range(n_qubits-1):\n",
    "            qml.RZ(weights[jj,2*ii,0], wires=0)\n",
    "            qml.RY(weights[jj,2*ii,1], wires=0)\n",
    "            qml.RZ(weights[jj,2*ii,2], wires=0)\n",
    "\n",
    "            qml.RZ(weights[jj,2*ii+1,0], wires=ii+1)\n",
    "            qml.RY(weights[jj,2*ii+1,1], wires=ii+1)\n",
    "            qml.RZ(weights[jj,2*ii+1,2], wires=ii+1)\n",
    "\n",
    "            #qml.U3(*list(weights[jj,2*ii,:]), wires=0)\n",
    "            #qml.U3(*list(weights[jj,2*ii+1,:]), wires=ii+1)\n",
    "            qml.CNOT(wires=[ii+1,0])\n",
    "            \n",
    "        qml.RZ(weights[jj,2*(n_qubits-1),0], wires=0)\n",
    "        qml.RY(weights[jj,2*(n_qubits-1),1], wires=0)\n",
    "        qml.RZ(weights[jj,2*(n_qubits-1),2], wires=0)\n",
    "\n",
    "    return qml.expval(qml.PauliZ(0))\n",
    "\n",
    "weight_shapes = {\"weights\": (n_layers, 2*(n_qubits-1)+1, 3) }\n",
    "\n",
    "\n",
    "qlayer = qml.qnn.KerasLayer(qnode, weight_shapes, output_dim=1, name=\"quantumLayer\")\n",
    "inputs = tf.keras.Input(shape=(n_qubits,), name=\"inputs\")\n",
    "outputs = qlayer(inputs)\n",
    "model2 = tf.keras.Model(inputs=inputs, outputs=outputs, name=\"QNN\")\n",
    "\n",
    "model2.predict(x_train_small[0,:])\n",
    "print(model2.summary())"
   ]
  },
  {
   "cell_type": "code",
   "execution_count": 39,
   "metadata": {},
   "outputs": [],
   "source": [
    "model2.compile(\n",
    "    loss=tf.keras.losses.Hinge(),\n",
    "    optimizer=tf.keras.optimizers.Adam(),\n",
    "    metrics=[hinge_accuracy])"
   ]
  },
  {
   "cell_type": "code",
   "execution_count": 40,
   "metadata": {},
   "outputs": [
    {
     "name": "stdout",
     "output_type": "stream",
     "text": [
      "512\n",
      "Epoch 1/20\n",
      "16/16 [==============================] - 222s 14s/step - loss: 1.0098 - hinge_accuracy: 0.4863 - val_loss: 1.0036 - val_hinge_accuracy: 0.5076\n",
      "Epoch 2/20\n",
      "16/16 [==============================] - 220s 14s/step - loss: 0.9684 - hinge_accuracy: 0.4863 - val_loss: 0.9674 - val_hinge_accuracy: 0.5136\n",
      "Epoch 3/20\n",
      "16/16 [==============================] - 229s 15s/step - loss: 0.9300 - hinge_accuracy: 0.5859 - val_loss: 0.9340 - val_hinge_accuracy: 0.6038\n",
      "Epoch 4/20\n",
      "16/16 [==============================] - 254s 17s/step - loss: 0.8929 - hinge_accuracy: 0.6426 - val_loss: 0.9018 - val_hinge_accuracy: 0.6280\n",
      "Epoch 5/20\n",
      "16/16 [==============================] - 215s 14s/step - loss: 0.8574 - hinge_accuracy: 0.6621 - val_loss: 0.8704 - val_hinge_accuracy: 0.6436\n",
      "Epoch 6/20\n",
      "16/16 [==============================] - 217s 14s/step - loss: 0.8209 - hinge_accuracy: 0.6914 - val_loss: 0.8390 - val_hinge_accuracy: 0.6568\n",
      "Epoch 7/20\n",
      "16/16 [==============================] - 238s 15s/step - loss: 0.7867 - hinge_accuracy: 0.7051 - val_loss: 0.8073 - val_hinge_accuracy: 0.6749\n",
      "Epoch 8/20\n",
      "16/16 [==============================] - 219s 14s/step - loss: 0.7515 - hinge_accuracy: 0.7305 - val_loss: 0.7766 - val_hinge_accuracy: 0.7011\n",
      "Epoch 9/20\n",
      "16/16 [==============================] - 268s 18s/step - loss: 0.7204 - hinge_accuracy: 0.7461 - val_loss: 0.7459 - val_hinge_accuracy: 0.7198\n",
      "Epoch 10/20\n",
      "16/16 [==============================] - 227s 15s/step - loss: 0.6898 - hinge_accuracy: 0.7539 - val_loss: 0.7182 - val_hinge_accuracy: 0.7298\n",
      "Epoch 11/20\n",
      "16/16 [==============================] - 250s 16s/step - loss: 0.6638 - hinge_accuracy: 0.7676 - val_loss: 0.6915 - val_hinge_accuracy: 0.7540\n",
      "Epoch 12/20\n",
      "16/16 [==============================] - 229s 15s/step - loss: 0.6400 - hinge_accuracy: 0.7695 - val_loss: 0.6675 - val_hinge_accuracy: 0.7586\n",
      "Epoch 13/20\n",
      "16/16 [==============================] - 222s 14s/step - loss: 0.6196 - hinge_accuracy: 0.7832 - val_loss: 0.6459 - val_hinge_accuracy: 0.7596\n",
      "Epoch 14/20\n",
      "16/16 [==============================] - 5542s 369s/step - loss: 0.6024 - hinge_accuracy: 0.7930 - val_loss: 0.6263 - val_hinge_accuracy: 0.7671\n",
      "Epoch 15/20\n",
      "16/16 [==============================] - 214s 14s/step - loss: 0.5878 - hinge_accuracy: 0.7910 - val_loss: 0.6089 - val_hinge_accuracy: 0.7712\n",
      "Epoch 16/20\n",
      "16/16 [==============================] - 217s 14s/step - loss: 0.5751 - hinge_accuracy: 0.7832 - val_loss: 0.5940 - val_hinge_accuracy: 0.7807\n",
      "Epoch 17/20\n",
      "16/16 [==============================] - 489s 32s/step - loss: 0.5645 - hinge_accuracy: 0.7852 - val_loss: 0.5792 - val_hinge_accuracy: 0.7893\n",
      "Epoch 18/20\n",
      "16/16 [==============================] - 219s 14s/step - loss: 0.5552 - hinge_accuracy: 0.7871 - val_loss: 0.5655 - val_hinge_accuracy: 0.7949\n",
      "Epoch 19/20\n",
      "16/16 [==============================] - 229s 15s/step - loss: 0.5465 - hinge_accuracy: 0.7910 - val_loss: 0.5533 - val_hinge_accuracy: 0.8004\n",
      "Epoch 20/20\n",
      "16/16 [==============================] - 252s 16s/step - loss: 0.5385 - hinge_accuracy: 0.7871 - val_loss: 0.5423 - val_hinge_accuracy: 0.8075\n",
      "62/62 [==============================] - 131s 2s/step - loss: 0.5423 - hinge_accuracy: 0.8075\n"
     ]
    }
   ],
   "source": [
    "EPOCHS = 20\n",
    "BATCH_SIZE = 32\n",
    "\n",
    "NUM_EXAMPLES = 512 #x_train_small.shape[0]\n",
    "print(NUM_EXAMPLES)\n",
    "\n",
    "x_train_sub = x_train_small[:NUM_EXAMPLES,:]\n",
    "y_train_hinge_sub = y_train_hinge[:NUM_EXAMPLES]\n",
    "\n",
    "x_test_sub = x_test_small[:,:]\n",
    "y_test_sub = y_test[:]\n",
    "\n",
    "qnn_history_2layer = model2.fit(\n",
    "      x_train_sub, y_train_hinge_sub,\n",
    "      batch_size=BATCH_SIZE,\n",
    "      epochs=EPOCHS,\n",
    "      verbose=1,\n",
    "      validation_data=(x_test_sub, y_test_sub))\n",
    "\n",
    "qnn_results_2layer = model2.evaluate(x_test_sub, y_test_sub)"
   ]
  },
  {
   "cell_type": "code",
   "execution_count": 41,
   "metadata": {},
   "outputs": [
    {
     "data": {
      "text/plain": [
       "{'loss': [1.009821054860213,\n",
       "  0.9684191698876125,\n",
       "  0.9300229240522239,\n",
       "  0.8929492670532166,\n",
       "  0.8573626919258974,\n",
       "  0.8208722536562981,\n",
       "  0.7866627982243429,\n",
       "  0.7515325264834175,\n",
       "  0.7203507453819022,\n",
       "  0.6898061863656223,\n",
       "  0.6637916434775687,\n",
       "  0.6400038263355325,\n",
       "  0.619614620434799,\n",
       "  0.6024408002530459,\n",
       "  0.5878237122752805,\n",
       "  0.5750934807859387,\n",
       "  0.5645437526506826,\n",
       "  0.5552432795672883,\n",
       "  0.5465176279843662,\n",
       "  0.5385353059967442],\n",
       " 'hinge_accuracy': [0.486328125,\n",
       "  0.486328125,\n",
       "  0.5859375,\n",
       "  0.642578125,\n",
       "  0.662109375,\n",
       "  0.69140625,\n",
       "  0.705078125,\n",
       "  0.73046875,\n",
       "  0.74609375,\n",
       "  0.75390625,\n",
       "  0.767578125,\n",
       "  0.76953125,\n",
       "  0.783203125,\n",
       "  0.79296875,\n",
       "  0.791015625,\n",
       "  0.783203125,\n",
       "  0.78515625,\n",
       "  0.787109375,\n",
       "  0.791015625,\n",
       "  0.787109375],\n",
       " 'val_loss': [1.0036027948770632,\n",
       "  0.9674171336706109,\n",
       "  0.9339567651260925,\n",
       "  0.9018363782326826,\n",
       "  0.8703909542974996,\n",
       "  0.8390495402559895,\n",
       "  0.8073122413022212,\n",
       "  0.7766137141827528,\n",
       "  0.7459465157536118,\n",
       "  0.7182409780841016,\n",
       "  0.6914591469425757,\n",
       "  0.6674733858067392,\n",
       "  0.6458789761068133,\n",
       "  0.6263020085741233,\n",
       "  0.6088968945215261,\n",
       "  0.593983516641403,\n",
       "  0.579194925614018,\n",
       "  0.5655066831054284,\n",
       "  0.5532502219990737,\n",
       "  0.5422536624036147],\n",
       " 'val_hinge_accuracy': [0.5075604838709677,\n",
       "  0.5136088709677419,\n",
       "  0.6038306451612904,\n",
       "  0.6280241935483871,\n",
       "  0.6436491935483871,\n",
       "  0.6567540322580645,\n",
       "  0.6748991935483871,\n",
       "  0.7011088709677419,\n",
       "  0.719758064516129,\n",
       "  0.7298387096774194,\n",
       "  0.7540322580645161,\n",
       "  0.7585685483870968,\n",
       "  0.7595766129032258,\n",
       "  0.7671370967741935,\n",
       "  0.7711693548387096,\n",
       "  0.7807459677419355,\n",
       "  0.7893145161290323,\n",
       "  0.7948588709677419,\n",
       "  0.8004032258064516,\n",
       "  0.8074596774193549]}"
      ]
     },
     "execution_count": 41,
     "metadata": {},
     "output_type": "execute_result"
    }
   ],
   "source": [
    "qnn_history_2layer.history"
   ]
  },
  {
   "attachments": {},
   "cell_type": "markdown",
   "metadata": {},
   "source": [
    "## Plot the results!"
   ]
  },
  {
   "cell_type": "code",
   "execution_count": 42,
   "metadata": {},
   "outputs": [
    {
     "data": {
      "image/png": "[encoded data removed]",
      "text/plain": [
       "<Figure size 640x480 with 1 Axes>"
      ]
     },
     "metadata": {},
     "output_type": "display_data"
    }
   ],
   "source": [
    "# plot the hinge accuracy for the qnn history for both 1 and 2 layer on the same axes\n",
    "plt.plot(np.arange(1,21), qnn_history_1layer.history[\"hinge_accuracy\"], label=\"TRAIN - 1 layer QNN\")\n",
    "plt.plot(np.arange(1,21), qnn_history_1layer.history[\"val_hinge_accuracy\"], label=\"VAL - 1 layer QNN\")\n",
    "plt.plot(np.arange(1,21), qnn_history_2layer.history[\"hinge_accuracy\"], label=\"TRAIN - 2 layer QNN\")\n",
    "plt.plot(np.arange(1,21), qnn_history_2layer.history[\"val_hinge_accuracy\"], label=\"VAL - 2 layer QNN\")\n",
    "plt.xlabel(\"Epoch\")\n",
    "plt.ylabel(\"Hinge Accuracy\")\n",
    "plt.legend()\n",
    "# modify x_ticks to also include 20\n",
    "plt.xticks(np.arange(0, 21, 2.5))\n",
    "# save as pdf with tight layout and no padding\n",
    "plt.savefig(\"qnn_hinge_accuracy.pdf\", bbox_inches=\"tight\", pad_inches=0)\n",
    "plt.show()"
   ]
  },
  {
   "cell_type": "code",
   "execution_count": 43,
   "metadata": {},
   "outputs": [
    {
     "data": {
      "image/png": "[encoded data removed]",
      "text/plain": [
       "<Figure size 640x480 with 1 Axes>"
      ]
     },
     "metadata": {},
     "output_type": "display_data"
    }
   ],
   "source": [
    "# plot the hinge accuracy for the loss for both 1 and 2 layer on the same axes\n",
    "plt.plot(np.arange(1,21), qnn_history_1layer.history[\"loss\"], label=\"TRAIN - 1 layer QNN\")\n",
    "plt.plot(np.arange(1,21), qnn_history_1layer.history[\"val_loss\"], label=\"VAL - 1 layer QNN\")\n",
    "plt.plot(np.arange(1,21), qnn_history_2layer.history[\"loss\"], label=\"TRAIN - 2 layer QNN\")\n",
    "plt.plot(np.arange(1,21), qnn_history_2layer.history[\"val_loss\"], label=\"VAL - 2 layer QNN\")\n",
    "plt.xlabel(\"Epoch\")\n",
    "plt.ylabel(\"Hinge Loss\")\n",
    "plt.legend()\n",
    "# modify x_ticks to also include 20\n",
    "plt.xticks(np.arange(0, 21, 2.5))\n",
    "# save as pdf with tight layout and no padding\n",
    "plt.savefig(\"qnn_hinge_loss.pdf\", bbox_inches=\"tight\", pad_inches=0)\n",
    "plt.show()"
   ]
  },
  {
   "cell_type": "code",
   "execution_count": null,
   "metadata": {},
   "outputs": [],
   "source": []
  }
 ],
 "metadata": {
  "kernelspec": {
   "display_name": "tf_gpu_env",
   "language": "python",
   "name": "tf_gpu_env"
  },
  "language_info": {
   "codemirror_mode": {
    "name": "ipython",
    "version": 3
   },
   "file_extension": ".py",
   "mimetype": "text/x-python",
   "name": "python",
   "nbconvert_exporter": "python",
   "pygments_lexer": "ipython3",
   "version": "3.9.13"
  },
  "orig_nbformat": 4,
  "vscode": {
   "interpreter": {
    "hash": "66a612e4ee5d9343e2fda4842cd4535190425ea2d31d59f514fa54a2d33459fb"
   }
  }
 },
 "nbformat": 4,
 "nbformat_minor": 2
}
