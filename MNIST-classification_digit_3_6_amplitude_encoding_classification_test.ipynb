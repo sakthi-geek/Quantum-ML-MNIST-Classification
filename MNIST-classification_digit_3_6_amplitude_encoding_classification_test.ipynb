{
 "cells": [
  {
   "cell_type": "code",
   "execution_count": 1,
   "metadata": {
    "pycharm": {
     "is_executing": true
    }
   },
   "outputs": [],
   "source": [
    "import pennylane as qml\n",
    "import tensorflow as tf\n",
    "import sklearn.datasets\n",
    "from sklearn.datasets import fetch_openml\n",
    "\n",
    "import numpy as np\n",
    "\n",
    "from matplotlib import pyplot as plt\n",
    "\n",
    "tf.keras.backend.set_floatx('float64')"
   ]
  },
  {
   "attachments": {},
   "cell_type": "markdown",
   "metadata": {},
   "source": [
    "## Load and reduce the data\n",
    "\n",
    "Load the MNIST data and check number of training and test examples"
   ]
  },
  {
   "cell_type": "code",
   "execution_count": 2,
   "metadata": {},
   "outputs": [
    {
     "name": "stdout",
     "output_type": "stream",
     "text": [
      "Number of original training examples: 60000\n",
      "Number of original test examples: 10000\n"
     ]
    }
   ],
   "source": [
    "(x_train, y_train), (x_test, y_test) = tf.keras.datasets.mnist.load_data()\n",
    "\n",
    "# Rescale the images from [0,255] to the [0.0,1.0] range.\n",
    "x_train, x_test = x_train[..., np.newaxis]/255.0, x_test[..., np.newaxis]/255.0  # add colour dimension\n",
    "\n",
    "print(\"Number of original training examples:\", len(x_train))\n",
    "print(\"Number of original test examples:\", len(x_test))"
   ]
  },
  {
   "attachments": {},
   "cell_type": "markdown",
   "metadata": {},
   "source": [
    "Create a function to filter out only 3 and 6"
   ]
  },
  {
   "cell_type": "code",
   "execution_count": 3,
   "metadata": {},
   "outputs": [],
   "source": [
    "def filter_36(x, y):\n",
    "    keep = (y == 3) | (y == 6)\n",
    "    x, y = x[keep], y[keep]\n",
    "    y = y == 3\n",
    "    return x,y"
   ]
  },
  {
   "cell_type": "code",
   "execution_count": 4,
   "metadata": {},
   "outputs": [
    {
     "name": "stdout",
     "output_type": "stream",
     "text": [
      "Number of filtered training examples: 12049\n",
      "Number of filtered test examples: 1968\n"
     ]
    }
   ],
   "source": [
    "x_train, y_train = filter_36(x_train, y_train)\n",
    "x_test, y_test = filter_36(x_test, y_test)\n",
    "\n",
    "print(\"Number of filtered training examples:\", len(x_train))\n",
    "print(\"Number of filtered test examples:\", len(x_test))"
   ]
  },
  {
   "attachments": {},
   "cell_type": "markdown",
   "metadata": {},
   "source": [
    "Plot the original images"
   ]
  },
  {
   "cell_type": "code",
   "execution_count": 5,
   "metadata": {},
   "outputs": [
    {
     "data": {
      "image/png": "[encoded data removed]",
      "text/plain": [
       "<Figure size 640x480 with 1 Axes>"
      ]
     },
     "metadata": {},
     "output_type": "display_data"
    }
   ],
   "source": [
    "plt.imshow(x_train[0, :, :, 0], cmap='Greys')\n",
    "ax = plt.gca()\n",
    "ax.set_xticks([])\n",
    "ax.set_yticks([])\n",
    "plt.title(\"28x28 image of a 0\", fontsize=20)\n",
    "# save to file as pdf\n",
    "plt.savefig('28x28_MNIST_0.pdf', bbox_inches='tight', pad_inches=0)\n",
    "plt.show()"
   ]
  },
  {
   "attachments": {},
   "cell_type": "markdown",
   "metadata": {},
   "source": [
    "Reduce images to 3x3"
   ]
  },
  {
   "cell_type": "code",
   "execution_count": 6,
   "metadata": {},
   "outputs": [],
   "source": [
    "# x_train_small = tf.image.resize(x_train, (3,3)).numpy()\n",
    "# x_test_small = tf.image.resize(x_test, (3,3)).numpy()"
   ]
  },
  {
   "cell_type": "code",
   "execution_count": 7,
   "metadata": {},
   "outputs": [],
   "source": [
    "# plt.imshow(x_train_small[0,:,:,0], vmin=0, vmax=1, cmap='Greys')\n",
    "# ax = plt.gca()\n",
    "# ax.set_xticks([])\n",
    "# ax.set_yticks([])\n",
    "# plt.title(\"9x9 image of a 0\", fontsize=20)\n",
    "# # save to file as pdf\n",
    "# plt.savefig('9x9_MNIST_0.pdf', bbox_inches='tight', pad_inches=0)\n",
    "# plt.show()"
   ]
  },
  {
   "attachments": {},
   "cell_type": "markdown",
   "metadata": {},
   "source": [
    "Flatten 28x28 to 784x1"
   ]
  },
  {
   "cell_type": "code",
   "execution_count": 8,
   "metadata": {},
   "outputs": [
    {
     "data": {
      "image/png": "[encoded data removed]",
      "text/plain": [
       "<Figure size 640x480 with 1 Axes>"
      ]
     },
     "metadata": {},
     "output_type": "display_data"
    }
   ],
   "source": [
    "# x_train_small = x_train_small[:,4,:,:].reshape((-1,9))  # take only central slices\n",
    "# x_test_small = x_test_small[:,4,:,:].reshape((-1,9))  # take only central slices\n",
    "\n",
    "x_train_small = x_train.reshape((-1,784))  \n",
    "x_test_small = x_test.reshape((-1,784))  \n",
    "\n",
    "plt.imshow(x_train_small[0,:].reshape((1,-1)), vmin=0, vmax=1, cmap='Greys')\n",
    "ax = plt.gca()\n",
    "ax.set_xticks([])\n",
    "ax.set_yticks([])\n",
    "plt.title(\"784x1 image of a 0\", fontsize=20)\n",
    "# save to file as pdf\n",
    "plt.savefig('784x1_MNIST_0.pdf', bbox_inches='tight', pad_inches=0)\n",
    "plt.show()\n"
   ]
  },
  {
   "cell_type": "code",
   "execution_count": 22,
   "metadata": {},
   "outputs": [
    {
     "data": {
      "text/plain": [
       "(784,)"
      ]
     },
     "execution_count": 22,
     "metadata": {},
     "output_type": "execute_result"
    }
   ],
   "source": [
    "x_train_small[0].shape"
   ]
  },
  {
   "cell_type": "code",
   "execution_count": 23,
   "metadata": {},
   "outputs": [
    {
     "name": "stdout",
     "output_type": "stream",
     "text": [
      "784\n"
     ]
    },
    {
     "data": {
      "text/plain": [
       "(1968, 784)"
      ]
     },
     "execution_count": 23,
     "metadata": {},
     "output_type": "execute_result"
    }
   ],
   "source": [
    "print(len(x_train_small[0]))\n",
    "x_test_small.shape\n"
   ]
  },
  {
   "cell_type": "code",
   "execution_count": 24,
   "metadata": {},
   "outputs": [
    {
     "data": {
      "text/plain": [
       "array([0.        , 0.        , 0.        , 0.        , 0.        ,\n",
       "       0.        , 0.        , 0.        , 0.        , 0.        ,\n",
       "       0.        , 0.        , 0.        , 0.        , 0.        ,\n",
       "       0.        , 0.        , 0.        , 0.        , 0.        ,\n",
       "       0.        , 0.        , 0.        , 0.        , 0.        ,\n",
       "       0.        , 0.        , 0.        , 0.        , 0.        ,\n",
       "       0.        , 0.        , 0.        , 0.        , 0.        ,\n",
       "       0.        , 0.        , 0.        , 0.        , 0.        ,\n",
       "       0.        , 0.        , 0.        , 0.        , 0.        ,\n",
       "       0.        , 0.        , 0.        , 0.        , 0.        ,\n",
       "       0.        , 0.        , 0.        , 0.        , 0.        ,\n",
       "       0.        , 0.        , 0.        , 0.        , 0.        ,\n",
       "       0.        , 0.        , 0.        , 0.        , 0.        ,\n",
       "       0.        , 0.        , 0.        , 0.        , 0.        ,\n",
       "       0.        , 0.        , 0.        , 0.        , 0.        ,\n",
       "       0.        , 0.        , 0.        , 0.        , 0.        ,\n",
       "       0.        , 0.        , 0.        , 0.        , 0.        ,\n",
       "       0.        , 0.        , 0.        , 0.        , 0.        ,\n",
       "       0.        , 0.        , 0.        , 0.        , 0.02745098,\n",
       "       0.8       , 0.99215686, 0.69019608, 0.        , 0.        ,\n",
       "       0.        , 0.        , 0.        , 0.        , 0.        ,\n",
       "       0.        , 0.        , 0.        , 0.        , 0.        ,\n",
       "       0.        , 0.        , 0.        , 0.        , 0.        ,\n",
       "       0.        , 0.        , 0.        , 0.        , 0.        ,\n",
       "       0.        , 0.02745098, 0.58823529, 0.98823529, 0.98823529,\n",
       "       0.49019608, 0.        , 0.        , 0.        , 0.        ,\n",
       "       0.        , 0.        , 0.        , 0.        , 0.        ,\n",
       "       0.        , 0.        , 0.        , 0.        , 0.        ,\n",
       "       0.        , 0.        , 0.        , 0.        , 0.        ,\n",
       "       0.        , 0.        , 0.        , 0.        , 0.45882353,\n",
       "       0.98823529, 0.72941176, 0.21960784, 0.        , 0.        ,\n",
       "       0.        , 0.        , 0.        , 0.        , 0.        ,\n",
       "       0.        , 0.        , 0.        , 0.        , 0.        ,\n",
       "       0.        , 0.        , 0.        , 0.        , 0.        ,\n",
       "       0.        , 0.        , 0.        , 0.        , 0.        ,\n",
       "       0.        , 0.        , 0.55294118, 0.98823529, 0.4627451 ,\n",
       "       0.        , 0.        , 0.        , 0.        , 0.        ,\n",
       "       0.        , 0.        , 0.        , 0.        , 0.        ,\n",
       "       0.        , 0.        , 0.        , 0.        , 0.        ,\n",
       "       0.        , 0.        , 0.        , 0.        , 0.        ,\n",
       "       0.        , 0.        , 0.        , 0.        , 0.        ,\n",
       "       0.60392157, 0.96862745, 0.19607843, 0.        , 0.        ,\n",
       "       0.        , 0.        , 0.        , 0.        , 0.        ,\n",
       "       0.        , 0.        , 0.        , 0.        , 0.        ,\n",
       "       0.        , 0.        , 0.        , 0.        , 0.        ,\n",
       "       0.        , 0.        , 0.        , 0.        , 0.        ,\n",
       "       0.        , 0.        , 0.10196078, 0.99215686, 0.76862745,\n",
       "       0.        , 0.        , 0.        , 0.        , 0.        ,\n",
       "       0.        , 0.        , 0.        , 0.        , 0.        ,\n",
       "       0.        , 0.        , 0.        , 0.        , 0.        ,\n",
       "       0.        , 0.        , 0.        , 0.        , 0.        ,\n",
       "       0.        , 0.        , 0.        , 0.        , 0.        ,\n",
       "       0.58823529, 0.99215686, 0.76862745, 0.        , 0.        ,\n",
       "       0.        , 0.        , 0.        , 0.        , 0.        ,\n",
       "       0.22352941, 0.33333333, 0.33333333, 0.14901961, 0.        ,\n",
       "       0.        , 0.        , 0.        , 0.        , 0.        ,\n",
       "       0.        , 0.        , 0.        , 0.        , 0.        ,\n",
       "       0.        , 0.        , 0.        , 0.88235294, 0.99215686,\n",
       "       0.37647059, 0.        , 0.        , 0.        , 0.        ,\n",
       "       0.        , 0.59215686, 0.88627451, 0.95294118, 0.98823529,\n",
       "       0.98823529, 0.93333333, 0.49019608, 0.        , 0.        ,\n",
       "       0.        , 0.        , 0.        , 0.        , 0.        ,\n",
       "       0.        , 0.        , 0.        , 0.        , 0.        ,\n",
       "       0.03921569, 0.89803922, 0.88627451, 0.        , 0.        ,\n",
       "       0.        , 0.01568627, 0.21176471, 0.89803922, 0.99215686,\n",
       "       1.        , 0.91764706, 0.68627451, 0.88235294, 1.        ,\n",
       "       0.89411765, 0.12156863, 0.        , 0.        , 0.        ,\n",
       "       0.        , 0.        , 0.        , 0.        , 0.        ,\n",
       "       0.        , 0.        , 0.        , 0.43137255, 0.98823529,\n",
       "       0.58823529, 0.        , 0.        , 0.10196078, 0.50196078,\n",
       "       0.98823529, 0.98823529, 0.89019608, 0.5254902 , 0.10980392,\n",
       "       0.        , 0.        , 0.69803922, 0.98823529, 0.21960784,\n",
       "       0.        , 0.        , 0.        , 0.        , 0.        ,\n",
       "       0.        , 0.        , 0.        , 0.        , 0.        ,\n",
       "       0.        , 0.62352941, 0.98823529, 0.44313725, 0.        ,\n",
       "       0.        , 0.58823529, 0.99215686, 0.98823529, 0.72941176,\n",
       "       0.16862745, 0.        , 0.        , 0.        , 0.        ,\n",
       "       0.55294118, 0.98823529, 0.21960784, 0.        , 0.        ,\n",
       "       0.        , 0.        , 0.        , 0.        , 0.        ,\n",
       "       0.        , 0.        , 0.        , 0.        , 0.7254902 ,\n",
       "       0.98823529, 0.44313725, 0.        , 0.14901961, 0.92941176,\n",
       "       0.99215686, 0.59215686, 0.02352941, 0.        , 0.        ,\n",
       "       0.        , 0.        , 0.        , 0.55294118, 0.79215686,\n",
       "       0.02352941, 0.        , 0.        , 0.        , 0.        ,\n",
       "       0.        , 0.        , 0.        , 0.        , 0.        ,\n",
       "       0.        , 0.        , 0.77647059, 0.99215686, 0.44705882,\n",
       "       0.        , 0.57647059, 0.99215686, 0.63921569, 0.        ,\n",
       "       0.        , 0.        , 0.        , 0.        , 0.        ,\n",
       "       0.        , 0.60392157, 0.77254902, 0.        , 0.        ,\n",
       "       0.        , 0.        , 0.        , 0.        , 0.        ,\n",
       "       0.        , 0.        , 0.        , 0.        , 0.        ,\n",
       "       0.77254902, 0.98823529, 0.44313725, 0.        , 0.6745098 ,\n",
       "       0.98823529, 0.7372549 , 0.        , 0.        , 0.        ,\n",
       "       0.        , 0.        , 0.        , 0.10196078, 0.99215686,\n",
       "       0.67058824, 0.        , 0.        , 0.        , 0.        ,\n",
       "       0.        , 0.        , 0.        , 0.        , 0.        ,\n",
       "       0.        , 0.        , 0.        , 0.77254902, 0.98823529,\n",
       "       0.44313725, 0.        , 0.0745098 , 0.90588235, 0.96862745,\n",
       "       0.47843137, 0.0745098 , 0.        , 0.        , 0.        ,\n",
       "       0.        , 0.78431373, 0.95686275, 0.21960784, 0.        ,\n",
       "       0.        , 0.        , 0.        , 0.        , 0.        ,\n",
       "       0.        , 0.        , 0.        , 0.        , 0.        ,\n",
       "       0.10196078, 0.87058824, 0.98823529, 0.44313725, 0.        ,\n",
       "       0.        , 0.09803922, 0.79607843, 0.98823529, 0.75686275,\n",
       "       0.05098039, 0.        , 0.29803922, 0.78431373, 0.97647059,\n",
       "       0.49019608, 0.        , 0.        , 0.        , 0.        ,\n",
       "       0.        , 0.        , 0.        , 0.        , 0.        ,\n",
       "       0.        , 0.        , 0.        , 0.        , 0.7254902 ,\n",
       "       0.99215686, 0.70196078, 0.03921569, 0.        , 0.        ,\n",
       "       0.        , 0.29803922, 0.1372549 , 0.11372549, 0.60392157,\n",
       "       0.99215686, 0.95686275, 0.49019608, 0.        , 0.        ,\n",
       "       0.        , 0.        , 0.        , 0.        , 0.        ,\n",
       "       0.        , 0.        , 0.        , 0.        , 0.        ,\n",
       "       0.        , 0.        , 0.10980392, 0.81960784, 0.99215686,\n",
       "       0.76862745, 0.32156863, 0.22352941, 0.22352941, 0.51372549,\n",
       "       0.77254902, 0.98823529, 0.99215686, 0.83921569, 0.31764706,\n",
       "       0.        , 0.        , 0.        , 0.        , 0.        ,\n",
       "       0.        , 0.        , 0.        , 0.        , 0.        ,\n",
       "       0.        , 0.        , 0.        , 0.        , 0.        ,\n",
       "       0.        , 0.09803922, 0.84705882, 0.98823529, 0.98823529,\n",
       "       0.98823529, 0.99215686, 0.98823529, 0.98823529, 0.98823529,\n",
       "       0.61176471, 0.0745098 , 0.        , 0.        , 0.        ,\n",
       "       0.        , 0.        , 0.        , 0.        , 0.        ,\n",
       "       0.        , 0.        , 0.        , 0.        , 0.        ,\n",
       "       0.        , 0.        , 0.        , 0.        , 0.        ,\n",
       "       0.0627451 , 0.40392157, 0.54509804, 0.94117647, 0.54901961,\n",
       "       0.54509804, 0.54509804, 0.15686275, 0.        , 0.        ,\n",
       "       0.        , 0.        , 0.        , 0.        , 0.        ,\n",
       "       0.        , 0.        , 0.        , 0.        , 0.        ,\n",
       "       0.        , 0.        , 0.        , 0.        , 0.        ,\n",
       "       0.        , 0.        , 0.        , 0.        , 0.        ,\n",
       "       0.        , 0.        , 0.        , 0.        , 0.        ,\n",
       "       0.        , 0.        , 0.        , 0.        , 0.        ,\n",
       "       0.        , 0.        , 0.        , 0.        , 0.        ,\n",
       "       0.        , 0.        , 0.        , 0.        , 0.        ,\n",
       "       0.        , 0.        , 0.        , 0.        , 0.        ,\n",
       "       0.        , 0.        , 0.        , 0.        , 0.        ,\n",
       "       0.        , 0.        , 0.        , 0.        , 0.        ,\n",
       "       0.        , 0.        , 0.        , 0.        , 0.        ,\n",
       "       0.        , 0.        , 0.        , 0.        , 0.        ,\n",
       "       0.        , 0.        , 0.        , 0.        , 0.        ,\n",
       "       0.        , 0.        , 0.        , 0.        , 0.        ,\n",
       "       0.        , 0.        , 0.        , 0.        , 0.        ,\n",
       "       0.        , 0.        , 0.        , 0.        , 0.        ,\n",
       "       0.        , 0.        , 0.        , 0.        , 0.        ,\n",
       "       0.        , 0.        , 0.        , 0.        , 0.        ,\n",
       "       0.        , 0.        , 0.        , 0.        , 0.        ,\n",
       "       0.        , 0.        , 0.        , 0.        , 0.        ,\n",
       "       0.        , 0.        , 0.        , 0.        , 0.        ,\n",
       "       0.        , 0.        , 0.        , 0.        , 0.        ,\n",
       "       0.        , 0.        , 0.        , 0.        , 0.        ,\n",
       "       0.        , 0.        , 0.        , 0.        , 0.        ,\n",
       "       0.        , 0.        , 0.        , 0.        , 0.        ,\n",
       "       0.        , 0.        , 0.        , 0.        , 0.        ,\n",
       "       0.        , 0.        , 0.        , 0.        , 0.        ,\n",
       "       0.        , 0.        , 0.        , 0.        , 0.        ,\n",
       "       0.        , 0.        , 0.        , 0.        ])"
      ]
     },
     "execution_count": 24,
     "metadata": {},
     "output_type": "execute_result"
    }
   ],
   "source": [
    "x_test_small[0]"
   ]
  },
  {
   "cell_type": "code",
   "execution_count": 25,
   "metadata": {},
   "outputs": [
    {
     "data": {
      "text/plain": [
       "784"
      ]
     },
     "execution_count": 25,
     "metadata": {},
     "output_type": "execute_result"
    }
   ],
   "source": [
    "len(x_train_small[0,:])\n"
   ]
  },
  {
   "cell_type": "code",
   "execution_count": 12,
   "metadata": {},
   "outputs": [],
   "source": [
    "# x_train_small_amplitude_encoded = qml.AmplitudeEmbedding(x_train_small, wires=range(10), pad_with=0.0, normalize=True)  # for pennylane 0.11.0\n",
    "# print(x_train_small_amplitude_encoded.parameters)\n",
    "# print(len(x_train_small_amplitude_encoded.parameters[0]))\n",
    "# len(x_train_small_amplitude_encoded.parameters[0][0])"
   ]
  },
  {
   "cell_type": "code",
   "execution_count": 13,
   "metadata": {},
   "outputs": [],
   "source": [
    "# x_test_small_amplitude_encoded = qml.AmplitudeEmbedding(x_test_small, wires=range(10), pad_with=0.0, normalize=True)  # for pennylane 0.11.0\n",
    "# print(x_test_small_amplitude_encoded.parameters)\n",
    "# print(len(x_test_small_amplitude_encoded.parameters[0]))\n",
    "# len(x_test_small_amplitude_encoded.parameters[0][0])"
   ]
  },
  {
   "cell_type": "code",
   "execution_count": 14,
   "metadata": {},
   "outputs": [
    {
     "data": {
      "text/plain": [
       "1.0"
      ]
     },
     "execution_count": 14,
     "metadata": {},
     "output_type": "execute_result"
    }
   ],
   "source": [
    "np.max(x_train_small[0,:])"
   ]
  },
  {
   "cell_type": "code",
   "execution_count": 15,
   "metadata": {},
   "outputs": [
    {
     "data": {
      "text/plain": [
       "1.0"
      ]
     },
     "execution_count": 15,
     "metadata": {},
     "output_type": "execute_result"
    }
   ],
   "source": [
    "np.sum((x_train_small[0,:]/np.sqrt(np.sum(x_train_small[0,:]**2)))**2)"
   ]
  },
  {
   "cell_type": "code",
   "execution_count": 26,
   "metadata": {},
   "outputs": [
    {
     "data": {
      "text/plain": [
       "(1, 784)"
      ]
     },
     "execution_count": 26,
     "metadata": {},
     "output_type": "execute_result"
    }
   ],
   "source": [
    "x_train_small[0,:].reshape(1,-1).shape"
   ]
  },
  {
   "cell_type": "code",
   "execution_count": 28,
   "metadata": {},
   "outputs": [
    {
     "data": {
      "text/plain": [
       "array([[0.        , 0.        , 0.        , 0.        , 0.        ,\n",
       "        0.        , 0.        , 0.        , 0.        , 0.        ,\n",
       "        0.        , 0.        , 0.        , 0.        , 0.        ,\n",
       "        0.        , 0.        , 0.        , 0.        , 0.        ,\n",
       "        0.        , 0.        , 0.        , 0.        , 0.        ,\n",
       "        0.        , 0.        , 0.        , 0.        , 0.        ,\n",
       "        0.        , 0.        , 0.        , 0.        , 0.        ,\n",
       "        0.        , 0.        , 0.        , 0.        , 0.        ,\n",
       "        0.        , 0.        , 0.        , 0.        , 0.        ,\n",
       "        0.        , 0.        , 0.        , 0.        , 0.        ,\n",
       "        0.        , 0.        , 0.        , 0.        , 0.        ,\n",
       "        0.        , 0.        , 0.        , 0.        , 0.        ,\n",
       "        0.        , 0.        , 0.        , 0.        , 0.        ,\n",
       "        0.        , 0.        , 0.        , 0.        , 0.        ,\n",
       "        0.        , 0.        , 0.        , 0.        , 0.        ,\n",
       "        0.        , 0.        , 0.        , 0.        , 0.        ,\n",
       "        0.        , 0.        , 0.        , 0.        , 0.        ,\n",
       "        0.        , 0.        , 0.        , 0.        , 0.        ,\n",
       "        0.        , 0.        , 0.        , 0.        , 0.        ,\n",
       "        0.        , 0.        , 0.        , 0.        , 0.        ,\n",
       "        0.        , 0.        , 0.        , 0.        , 0.        ,\n",
       "        0.        , 0.        , 0.        , 0.        , 0.        ,\n",
       "        0.        , 0.        , 0.        , 0.        , 0.        ,\n",
       "        0.        , 0.        , 0.        , 0.        , 0.        ,\n",
       "        0.        , 0.        , 0.        , 0.        , 0.        ,\n",
       "        0.        , 0.        , 0.        , 0.        , 0.        ,\n",
       "        0.        , 0.        , 0.        , 0.        , 0.        ,\n",
       "        0.        , 0.        , 0.        , 0.        , 0.        ,\n",
       "        0.        , 0.        , 0.        , 0.        , 0.        ,\n",
       "        0.        , 0.        , 0.        , 0.        , 0.        ,\n",
       "        0.        , 0.14901961, 0.16862745, 0.41176471, 1.        ,\n",
       "        0.99215686, 0.99215686, 0.99215686, 0.99215686, 0.99215686,\n",
       "        0.68235294, 0.02352941, 0.        , 0.        , 0.        ,\n",
       "        0.        , 0.        , 0.        , 0.        , 0.        ,\n",
       "        0.        , 0.        , 0.        , 0.        , 0.        ,\n",
       "        0.        , 0.        , 0.16862745, 0.54509804, 0.87843137,\n",
       "        0.88627451, 0.98823529, 0.99215686, 0.98823529, 0.98823529,\n",
       "        0.98823529, 0.98823529, 0.98823529, 0.98823529, 0.61960784,\n",
       "        0.05490196, 0.        , 0.        , 0.        , 0.        ,\n",
       "        0.        , 0.        , 0.        , 0.        , 0.        ,\n",
       "        0.        , 0.        , 0.        , 0.        , 0.        ,\n",
       "        0.69803922, 0.98823529, 0.98823529, 0.98823529, 0.98823529,\n",
       "        0.99215686, 0.98823529, 0.98823529, 0.98823529, 0.98823529,\n",
       "        0.98823529, 0.98823529, 0.98823529, 0.23137255, 0.        ,\n",
       "        0.        , 0.        , 0.        , 0.        , 0.        ,\n",
       "        0.        , 0.        , 0.        , 0.        , 0.        ,\n",
       "        0.        , 0.        , 0.        , 0.42745098, 0.98823529,\n",
       "        0.98823529, 0.90196078, 0.51764706, 0.52156863, 0.51764706,\n",
       "        0.51764706, 0.74117647, 0.98823529, 0.98823529, 0.98823529,\n",
       "        0.98823529, 0.23137255, 0.        , 0.        , 0.        ,\n",
       "        0.        , 0.        , 0.        , 0.        , 0.        ,\n",
       "        0.        , 0.        , 0.        , 0.        , 0.        ,\n",
       "        0.        , 0.01568627, 0.11372549, 0.11372549, 0.09411765,\n",
       "        0.        , 0.        , 0.        , 0.        , 0.05490196,\n",
       "        0.88627451, 0.98823529, 0.98823529, 0.6745098 , 0.02745098,\n",
       "        0.        , 0.        , 0.        , 0.        , 0.        ,\n",
       "        0.        , 0.        , 0.        , 0.        , 0.        ,\n",
       "        0.        , 0.        , 0.        , 0.        , 0.        ,\n",
       "        0.        , 0.        , 0.        , 0.        , 0.        ,\n",
       "        0.        , 0.        , 0.33333333, 0.95294118, 0.98823529,\n",
       "        0.98823529, 0.56470588, 0.        , 0.        , 0.        ,\n",
       "        0.        , 0.        , 0.        , 0.        , 0.        ,\n",
       "        0.        , 0.        , 0.        , 0.        , 0.        ,\n",
       "        0.        , 0.        , 0.        , 0.        , 0.        ,\n",
       "        0.        , 0.        , 0.        , 0.        , 0.34509804,\n",
       "        0.74117647, 0.98823529, 0.98823529, 0.98823529, 0.05490196,\n",
       "        0.        , 0.        , 0.        , 0.        , 0.        ,\n",
       "        0.        , 0.        , 0.        , 0.        , 0.        ,\n",
       "        0.        , 0.        , 0.        , 0.        , 0.        ,\n",
       "        0.        , 0.        , 0.        , 0.        , 0.        ,\n",
       "        0.35686275, 0.83137255, 0.96862745, 0.98823529, 0.98823529,\n",
       "        0.98823529, 0.8       , 0.03529412, 0.        , 0.        ,\n",
       "        0.        , 0.        , 0.        , 0.        , 0.        ,\n",
       "        0.        , 0.        , 0.        , 0.        , 0.        ,\n",
       "        0.        , 0.        , 0.        , 0.1254902 , 0.49019608,\n",
       "        0.75686275, 0.75686275, 0.75686275, 0.99215686, 0.98823529,\n",
       "        0.98823529, 0.98823529, 0.93333333, 0.4       , 0.10980392,\n",
       "        0.        , 0.        , 0.        , 0.        , 0.        ,\n",
       "        0.        , 0.        , 0.        , 0.        , 0.        ,\n",
       "        0.        , 0.        , 0.        , 0.        , 0.        ,\n",
       "        0.17647059, 0.87058824, 0.98823529, 0.98823529, 0.98823529,\n",
       "        0.98823529, 0.99215686, 0.98823529, 0.98823529, 0.98823529,\n",
       "        0.69411765, 0.        , 0.        , 0.        , 0.        ,\n",
       "        0.        , 0.        , 0.        , 0.        , 0.        ,\n",
       "        0.        , 0.        , 0.        , 0.        , 0.        ,\n",
       "        0.        , 0.        , 0.        , 0.17647059, 0.8745098 ,\n",
       "        0.99215686, 0.99215686, 0.99215686, 0.99215686, 1.        ,\n",
       "        0.99215686, 0.99215686, 0.99215686, 0.99215686, 0.29019608,\n",
       "        0.        , 0.        , 0.        , 0.        , 0.        ,\n",
       "        0.        , 0.        , 0.        , 0.        , 0.        ,\n",
       "        0.        , 0.        , 0.        , 0.        , 0.        ,\n",
       "        0.        , 0.        , 0.12156863, 0.48235294, 0.20392157,\n",
       "        0.17254902, 0.17254902, 0.17254902, 0.17254902, 0.56078431,\n",
       "        0.98823529, 0.98823529, 0.29019608, 0.        , 0.        ,\n",
       "        0.        , 0.        , 0.        , 0.        , 0.        ,\n",
       "        0.        , 0.        , 0.        , 0.        , 0.        ,\n",
       "        0.        , 0.        , 0.        , 0.        , 0.        ,\n",
       "        0.        , 0.        , 0.        , 0.        , 0.        ,\n",
       "        0.        , 0.        , 0.05882353, 0.98823529, 0.98823529,\n",
       "        0.29019608, 0.        , 0.        , 0.        , 0.        ,\n",
       "        0.        , 0.        , 0.        , 0.        , 0.        ,\n",
       "        0.        , 0.        , 0.        , 0.        , 0.        ,\n",
       "        0.        , 0.        , 0.        , 0.        , 0.        ,\n",
       "        0.        , 0.        , 0.        , 0.        , 0.        ,\n",
       "        0.3372549 , 0.98823529, 0.98823529, 0.29019608, 0.        ,\n",
       "        0.        , 0.        , 0.        , 0.        , 0.        ,\n",
       "        0.        , 0.        , 0.        , 0.        , 0.        ,\n",
       "        0.        , 0.        , 0.        , 0.01960784, 0.29411765,\n",
       "        0.03529412, 0.        , 0.        , 0.        , 0.        ,\n",
       "        0.        , 0.        , 0.38431373, 0.94901961, 0.98823529,\n",
       "        0.98823529, 0.29019608, 0.        , 0.        , 0.        ,\n",
       "        0.        , 0.        , 0.        , 0.        , 0.        ,\n",
       "        0.        , 0.        , 0.        , 0.        , 0.        ,\n",
       "        0.23921569, 0.71764706, 0.98823529, 0.11372549, 0.        ,\n",
       "        0.        , 0.        , 0.        , 0.07058824, 0.36078431,\n",
       "        0.9372549 , 0.98823529, 0.98823529, 0.95294118, 0.25490196,\n",
       "        0.        , 0.        , 0.        , 0.        , 0.        ,\n",
       "        0.        , 0.        , 0.        , 0.        , 0.        ,\n",
       "        0.        , 0.        , 0.        , 0.81568627, 0.98823529,\n",
       "        0.98823529, 0.57647059, 0.5254902 , 0.5254902 , 0.5254902 ,\n",
       "        0.5254902 , 0.79607843, 0.99215686, 0.98823529, 0.98823529,\n",
       "        0.7372549 , 0.3254902 , 0.        , 0.        , 0.        ,\n",
       "        0.        , 0.        , 0.        , 0.        , 0.        ,\n",
       "        0.        , 0.        , 0.        , 0.        , 0.        ,\n",
       "        0.        , 0.81568627, 0.98823529, 0.98823529, 0.98823529,\n",
       "        0.98823529, 0.98823529, 0.98823529, 0.98823529, 0.98823529,\n",
       "        0.99215686, 0.90196078, 0.6       , 0.03137255, 0.        ,\n",
       "        0.        , 0.        , 0.        , 0.        , 0.        ,\n",
       "        0.        , 0.        , 0.        , 0.        , 0.        ,\n",
       "        0.        , 0.        , 0.        , 0.        , 0.19215686,\n",
       "        0.61568627, 0.98823529, 0.98823529, 0.98823529, 0.98823529,\n",
       "        0.98823529, 0.85098039, 0.81176471, 0.57254902, 0.17647059,\n",
       "        0.        , 0.        , 0.        , 0.        , 0.        ,\n",
       "        0.        , 0.        , 0.        , 0.        , 0.        ,\n",
       "        0.        , 0.        , 0.        , 0.        , 0.        ,\n",
       "        0.        , 0.        , 0.        , 0.02745098, 0.40392157,\n",
       "        0.92156863, 0.98823529, 0.6745098 , 0.40392157, 0.09411765,\n",
       "        0.        , 0.        , 0.        , 0.        , 0.        ,\n",
       "        0.        , 0.        , 0.        , 0.        , 0.        ,\n",
       "        0.        , 0.        , 0.        , 0.        , 0.        ,\n",
       "        0.        , 0.        , 0.        , 0.        , 0.        ,\n",
       "        0.        , 0.        , 0.        , 0.        , 0.        ,\n",
       "        0.        , 0.        , 0.        , 0.        , 0.        ,\n",
       "        0.        , 0.        , 0.        , 0.        , 0.        ,\n",
       "        0.        , 0.        , 0.        , 0.        , 0.        ,\n",
       "        0.        , 0.        , 0.        , 0.        , 0.        ,\n",
       "        0.        , 0.        , 0.        , 0.        , 0.        ,\n",
       "        0.        , 0.        , 0.        , 0.        , 0.        ,\n",
       "        0.        , 0.        , 0.        , 0.        , 0.        ,\n",
       "        0.        , 0.        , 0.        , 0.        , 0.        ,\n",
       "        0.        , 0.        , 0.        , 0.        , 0.        ,\n",
       "        0.        , 0.        , 0.        , 0.        , 0.        ,\n",
       "        0.        , 0.        , 0.        , 0.        , 0.        ,\n",
       "        0.        , 0.        , 0.        , 0.        , 0.        ,\n",
       "        0.        , 0.        , 0.        , 0.        , 0.        ,\n",
       "        0.        , 0.        , 0.        , 0.        , 0.        ,\n",
       "        0.        , 0.        , 0.        , 0.        ]])"
      ]
     },
     "execution_count": 28,
     "metadata": {},
     "output_type": "execute_result"
    }
   ],
   "source": [
    "x_train_small[0,:].reshape(1,-1)"
   ]
  },
  {
   "cell_type": "code",
   "execution_count": 17,
   "metadata": {},
   "outputs": [
    {
     "data": {
      "text/plain": [
       "(784,)"
      ]
     },
     "execution_count": 17,
     "metadata": {},
     "output_type": "execute_result"
    }
   ],
   "source": [
    "x_train_small[0,:].shape"
   ]
  },
  {
   "cell_type": "code",
   "execution_count": 18,
   "metadata": {},
   "outputs": [
    {
     "data": {
      "text/plain": [
       "range(0, 10)"
      ]
     },
     "execution_count": 18,
     "metadata": {},
     "output_type": "execute_result"
    }
   ],
   "source": [
    "range(10)"
   ]
  },
  {
   "attachments": {},
   "cell_type": "markdown",
   "metadata": {},
   "source": [
    "## Set up the Quantum Neural Network\n",
    "\n",
    "Create quantum circuit using pennylane qnode, then conver this to a Keras layer to make a Keras model"
   ]
  },
  {
   "cell_type": "code",
   "execution_count": 19,
   "metadata": {},
   "outputs": [
    {
     "name": "stdout",
     "output_type": "stream",
     "text": [
      "1/1 [==============================] - 0s 271ms/step\n",
      "Model: \"QNN\"\n",
      "_________________________________________________________________\n",
      " Layer (type)                Output Shape              Param #   \n",
      "=================================================================\n",
      " inputs (InputLayer)         [(None, 784)]             0         \n",
      "                                                                 \n",
      " quantumLayer (KerasLayer)   (None, 1)                 57        \n",
      "                                                                 \n",
      "=================================================================\n",
      "Total params: 57\n",
      "Trainable params: 57\n",
      "Non-trainable params: 0\n",
      "_________________________________________________________________\n",
      "None\n"
     ]
    }
   ],
   "source": [
    "n_qubits = 9\n",
    "n_layers = 1\n",
    "dev = qml.device(\"default.qubit\", wires=n_qubits)\n",
    "\n",
    "@qml.qnode(dev, diff_method=\"adjoint\")\n",
    "def qnode(inputs, weights):\n",
    "    \n",
    "    qml.AmplitudeEmbedding(features=inputs, wires=range(10),normalize=True,pad_with=0)  \n",
    "    # for ii in range(n_qubits):\n",
    "        # qml.RY(np.pi * inputs[ii], wires=ii)\n",
    "\n",
    "        \n",
    "    for jj in range(n_layers):\n",
    "        for ii in range(n_qubits-1):\n",
    "            qml.RZ(weights[jj,2*ii,0], wires=0)\n",
    "            qml.RY(weights[jj,2*ii,1], wires=0)\n",
    "            qml.RZ(weights[jj,2*ii,2], wires=0)\n",
    "\n",
    "            qml.RZ(weights[jj,2*ii+1,0], wires=ii+1)\n",
    "            qml.RY(weights[jj,2*ii+1,1], wires=ii+1)\n",
    "            qml.RZ(weights[jj,2*ii+1,2], wires=ii+1)\n",
    "\n",
    "            #qml.U3(*list(weights[jj,2*ii,:]), wires=0)\n",
    "            #qml.U3(*list(weights[jj,2*ii+1,:]), wires=ii+1)\n",
    "            qml.CNOT(wires=[ii+1,0])\n",
    "            \n",
    "        qml.RZ(weights[jj,2*(n_qubits-1),0], wires=0)\n",
    "        qml.RY(weights[jj,2*(n_qubits-1),1], wires=0)\n",
    "        qml.RZ(weights[jj,2*(n_qubits-1),2], wires=0)\n",
    "\n",
    "    return qml.expval(qml.PauliZ(0))\n",
    "\n",
    "weight_shapes = {\"weights\": (n_layers, 2*(n_qubits-1)+1, 3) }\n",
    "\n",
    "\n",
    "qlayer = qml.qnn.KerasLayer(qnode, weight_shapes, output_dim=1, name=\"quantumLayer\")\n",
    "inputs = tf.keras.Input(shape=(784,), name=\"inputs\")\n",
    "\n",
    "outputs = qlayer(inputs)\n",
    "model = tf.keras.Model(inputs=inputs, outputs=outputs, name=\"QNN\")\n",
    "\n",
    "# testImage = x_train_small[1,:]  /np.sqrt(np.sum(x_train_small[1,:]**2))\n",
    "# print(testImage)\n",
    "model.predict(x_train_small[0,:].reshape(1,-1))\n",
    "print(model.summary())"
   ]
  },
  {
   "attachments": {},
   "cell_type": "markdown",
   "metadata": {},
   "source": [
    "Redefine the classification values to match the Hinge loss"
   ]
  },
  {
   "cell_type": "code",
   "execution_count": 31,
   "metadata": {},
   "outputs": [],
   "source": [
    "y_train_hinge = 2.0*y_train-1.0\n",
    "y_test_hinge = 2.0*y_test-1.0"
   ]
  },
  {
   "attachments": {},
   "cell_type": "markdown",
   "metadata": {},
   "source": [
    "Define the hinge accuracy"
   ]
  },
  {
   "cell_type": "code",
   "execution_count": 32,
   "metadata": {},
   "outputs": [],
   "source": [
    "def hinge_accuracy(y_true, y_pred):\n",
    "    y_true = tf.squeeze(y_true) > 0.0\n",
    "    y_pred = tf.squeeze(y_pred) > 0.0\n",
    "    result = tf.cast(y_true == y_pred, tf.float32)\n",
    "\n",
    "    return tf.reduce_mean(result)"
   ]
  },
  {
   "attachments": {},
   "cell_type": "markdown",
   "metadata": {},
   "source": [
    "## Compile and train the model\n",
    "\n",
    "Compile the model using the hinge loss and accuracy and the Adam optimiser"
   ]
  },
  {
   "cell_type": "code",
   "execution_count": 33,
   "metadata": {},
   "outputs": [],
   "source": [
    "model.compile(\n",
    "    loss=tf.keras.losses.Hinge(),\n",
    "    optimizer=tf.keras.optimizers.Adam(),\n",
    "    metrics=[hinge_accuracy])"
   ]
  },
  {
   "cell_type": "code",
   "execution_count": 34,
   "metadata": {},
   "outputs": [
    {
     "name": "stdout",
     "output_type": "stream",
     "text": [
      "Model: \"QNN\"\n",
      "_________________________________________________________________\n",
      " Layer (type)                Output Shape              Param #   \n",
      "=================================================================\n",
      " inputs (InputLayer)         [(None, 784)]             0         \n",
      "                                                                 \n",
      " quantumLayer (KerasLayer)   (None, 1)                 57        \n",
      "                                                                 \n",
      "=================================================================\n",
      "Total params: 57\n",
      "Trainable params: 57\n",
      "Non-trainable params: 0\n",
      "_________________________________________________________________\n",
      "None\n"
     ]
    }
   ],
   "source": [
    "print(model.summary())"
   ]
  },
  {
   "attachments": {},
   "cell_type": "markdown",
   "metadata": {},
   "source": [
    "Train the model over 20 epochs"
   ]
  },
  {
   "cell_type": "code",
   "execution_count": 38,
   "metadata": {},
   "outputs": [
    {
     "name": "stdout",
     "output_type": "stream",
     "text": [
      "512\n",
      "Epoch 1/20\n",
      "16/16 [==============================] - 101s 6s/step - loss: 1.0044 - hinge_accuracy: 0.4414 - val_loss: 1.0026 - val_hinge_accuracy: 0.4587\n",
      "Epoch 2/20\n",
      "16/16 [==============================] - 108s 7s/step - loss: 1.0033 - hinge_accuracy: 0.4453 - val_loss: 1.0018 - val_hinge_accuracy: 0.4738\n",
      "Epoch 3/20\n",
      "16/16 [==============================] - 100s 6s/step - loss: 1.0022 - hinge_accuracy: 0.4570 - val_loss: 1.0009 - val_hinge_accuracy: 0.4899\n",
      "Epoch 4/20\n",
      "16/16 [==============================] - 116s 8s/step - loss: 1.0011 - hinge_accuracy: 0.4746 - val_loss: 1.0000 - val_hinge_accuracy: 0.5025\n",
      "Epoch 5/20\n",
      "16/16 [==============================] - 135s 9s/step - loss: 0.9999 - hinge_accuracy: 0.4941 - val_loss: 0.9991 - val_hinge_accuracy: 0.5166\n",
      "Epoch 6/20\n",
      "16/16 [==============================] - 128s 8s/step - loss: 0.9987 - hinge_accuracy: 0.5156 - val_loss: 0.9980 - val_hinge_accuracy: 0.5292\n",
      "Epoch 7/20\n",
      "16/16 [==============================] - 131s 8s/step - loss: 0.9973 - hinge_accuracy: 0.5449 - val_loss: 0.9967 - val_hinge_accuracy: 0.5534\n",
      "Epoch 8/20\n",
      "16/16 [==============================] - 125s 8s/step - loss: 0.9956 - hinge_accuracy: 0.5684 - val_loss: 0.9952 - val_hinge_accuracy: 0.5736\n",
      "Epoch 9/20\n",
      "16/16 [==============================] - 101s 7s/step - loss: 0.9937 - hinge_accuracy: 0.6016 - val_loss: 0.9932 - val_hinge_accuracy: 0.5968\n",
      "Epoch 10/20\n",
      "16/16 [==============================] - 97s 6s/step - loss: 0.9913 - hinge_accuracy: 0.6348 - val_loss: 0.9907 - val_hinge_accuracy: 0.6270\n",
      "Epoch 11/20\n",
      "16/16 [==============================] - 100s 6s/step - loss: 0.9883 - hinge_accuracy: 0.6699 - val_loss: 0.9878 - val_hinge_accuracy: 0.6704\n",
      "Epoch 12/20\n",
      "16/16 [==============================] - 97s 6s/step - loss: 0.9848 - hinge_accuracy: 0.7148 - val_loss: 0.9841 - val_hinge_accuracy: 0.7157\n",
      "Epoch 13/20\n",
      "16/16 [==============================] - 97s 6s/step - loss: 0.9807 - hinge_accuracy: 0.7539 - val_loss: 0.9798 - val_hinge_accuracy: 0.7571\n",
      "Epoch 14/20\n",
      "16/16 [==============================] - 97s 6s/step - loss: 0.9759 - hinge_accuracy: 0.8008 - val_loss: 0.9750 - val_hinge_accuracy: 0.7959\n",
      "Epoch 15/20\n",
      "16/16 [==============================] - 98s 6s/step - loss: 0.9705 - hinge_accuracy: 0.8242 - val_loss: 0.9695 - val_hinge_accuracy: 0.8246\n",
      "Epoch 16/20\n",
      "16/16 [==============================] - 98s 6s/step - loss: 0.9646 - hinge_accuracy: 0.8496 - val_loss: 0.9636 - val_hinge_accuracy: 0.8438\n",
      "Epoch 17/20\n",
      "16/16 [==============================] - 98s 6s/step - loss: 0.9583 - hinge_accuracy: 0.8828 - val_loss: 0.9573 - val_hinge_accuracy: 0.8493\n",
      "Epoch 18/20\n",
      "16/16 [==============================] - 110s 7s/step - loss: 0.9516 - hinge_accuracy: 0.8906 - val_loss: 0.9507 - val_hinge_accuracy: 0.8644\n",
      "Epoch 19/20\n",
      "16/16 [==============================] - 97s 6s/step - loss: 0.9447 - hinge_accuracy: 0.8965 - val_loss: 0.9440 - val_hinge_accuracy: 0.8695\n",
      "Epoch 20/20\n",
      "16/16 [==============================] - 98s 6s/step - loss: 0.9378 - hinge_accuracy: 0.9043 - val_loss: 0.9373 - val_hinge_accuracy: 0.8735\n",
      "62/62 [==============================] - 75s 1s/step - loss: 0.9373 - hinge_accuracy: 0.8735\n"
     ]
    }
   ],
   "source": [
    "EPOCHS = 20\n",
    "BATCH_SIZE = 32\n",
    "\n",
    "NUM_EXAMPLES = 512 #x_train_small.shape[0]\n",
    "print(NUM_EXAMPLES)\n",
    "\n",
    "x_train_sub = x_train_small[:NUM_EXAMPLES,:]\n",
    "y_train_hinge_sub = y_train_hinge[:NUM_EXAMPLES]\n",
    "\n",
    "x_test_sub = x_test_small[:,:]\n",
    "y_test_sub = y_test[:]\n",
    "\n",
    "qnn_history_1layer = model.fit(\n",
    "      x_train_sub, y_train_hinge_sub,\n",
    "      batch_size=BATCH_SIZE,\n",
    "      epochs=EPOCHS,\n",
    "      verbose=1,\n",
    "      validation_data=(x_test_sub, y_test_sub))\n",
    "\n",
    "qnn_results_1layer = model.evaluate(x_test_sub, y_test_sub)"
   ]
  },
  {
   "cell_type": "code",
   "execution_count": 42,
   "metadata": {},
   "outputs": [
    {
     "data": {
      "text/plain": [
       "{'loss': [1.004409705272598,\n",
       "  1.0032886756188792,\n",
       "  1.0021600469578005,\n",
       "  1.001076920294305,\n",
       "  0.9999170290270583,\n",
       "  0.9986699472477788,\n",
       "  0.9972823361987804,\n",
       "  0.9956034711325031,\n",
       "  0.9936620762124166,\n",
       "  0.9912829145356873,\n",
       "  0.9882711927589484,\n",
       "  0.9847859351434506,\n",
       "  0.9806559193061809,\n",
       "  0.9759030747458758,\n",
       "  0.9705407325567663,\n",
       "  0.9645502787457241,\n",
       "  0.9583170871585145,\n",
       "  0.9515678646171704,\n",
       "  0.9446537112724052,\n",
       "  0.937824892655233],\n",
       " 'hinge_accuracy': [0.44140625,\n",
       "  0.4453125,\n",
       "  0.45703125,\n",
       "  0.474609375,\n",
       "  0.494140625,\n",
       "  0.515625,\n",
       "  0.544921875,\n",
       "  0.568359375,\n",
       "  0.6015625,\n",
       "  0.634765625,\n",
       "  0.669921875,\n",
       "  0.71484375,\n",
       "  0.75390625,\n",
       "  0.80078125,\n",
       "  0.82421875,\n",
       "  0.849609375,\n",
       "  0.8828125,\n",
       "  0.890625,\n",
       "  0.896484375,\n",
       "  0.904296875],\n",
       " 'val_loss': [1.002605521035271,\n",
       "  1.0017558787226502,\n",
       "  1.0009206551285064,\n",
       "  1.0000341811532476,\n",
       "  0.9990987862554529,\n",
       "  0.9980154484003643,\n",
       "  0.9966983837559384,\n",
       "  0.9951534403779873,\n",
       "  0.9931841100199977,\n",
       "  0.9906973598531996,\n",
       "  0.9877893586956417,\n",
       "  0.9841470064880026,\n",
       "  0.9798490097765961,\n",
       "  0.9750222952419253,\n",
       "  0.9694985769622219,\n",
       "  0.9635821952466072,\n",
       "  0.9572713135322642,\n",
       "  0.9506545017682564,\n",
       "  0.9439900387910984,\n",
       "  0.9372605483045949],\n",
       " 'val_hinge_accuracy': [0.4586693548387097,\n",
       "  0.4737903225806452,\n",
       "  0.4899193548387097,\n",
       "  0.5025201612903226,\n",
       "  0.516633064516129,\n",
       "  0.5292338709677419,\n",
       "  0.5534274193548387,\n",
       "  0.5735887096774194,\n",
       "  0.5967741935483871,\n",
       "  0.6270161290322581,\n",
       "  0.6703629032258065,\n",
       "  0.7157258064516129,\n",
       "  0.7570564516129032,\n",
       "  0.795866935483871,\n",
       "  0.8245967741935484,\n",
       "  0.84375,\n",
       "  0.8492943548387096,\n",
       "  0.8644153225806451,\n",
       "  0.8694556451612904,\n",
       "  0.8734879032258065]}"
      ]
     },
     "execution_count": 42,
     "metadata": {},
     "output_type": "execute_result"
    }
   ],
   "source": [
    "qnn_history_1layer.history"
   ]
  },
  {
   "attachments": {},
   "cell_type": "markdown",
   "metadata": {},
   "source": [
    "Create and train a 2 layer version of the QNN"
   ]
  },
  {
   "cell_type": "code",
   "execution_count": 43,
   "metadata": {},
   "outputs": [
    {
     "name": "stdout",
     "output_type": "stream",
     "text": [
      "1/1 [==============================] - 0s 97ms/step\n",
      "Model: \"QNN\"\n",
      "_________________________________________________________________\n",
      " Layer (type)                Output Shape              Param #   \n",
      "=================================================================\n",
      " inputs (InputLayer)         [(None, 784)]             0         \n",
      "                                                                 \n",
      " quantumLayer (KerasLayer)   (None, 1)                 114       \n",
      "                                                                 \n",
      "=================================================================\n",
      "Total params: 114\n",
      "Trainable params: 114\n",
      "Non-trainable params: 0\n",
      "_________________________________________________________________\n",
      "None\n"
     ]
    }
   ],
   "source": [
    "n_qubits = 10\n",
    "n_layers = 2\n",
    "dev = qml.device(\"default.qubit\", wires=n_qubits)\n",
    "\n",
    "@qml.qnode(dev, diff_method=\"adjoint\")\n",
    "def qnode(inputs, weights):\n",
    "\n",
    "    qml.AmplitudeEmbedding(features=inputs, wires=range(10),normalize=True,pad_with=0)  \n",
    "\n",
    "    # for ii in range(n_qubits):\n",
    "    #     qml.RY(np.pi * inputs[ii], wires=ii)\n",
    "\n",
    "    for jj in range(n_layers):\n",
    "        for ii in range(n_qubits-1):\n",
    "            qml.RZ(weights[jj,2*ii,0], wires=0)\n",
    "            qml.RY(weights[jj,2*ii,1], wires=0)\n",
    "            qml.RZ(weights[jj,2*ii,2], wires=0)\n",
    "\n",
    "            qml.RZ(weights[jj,2*ii+1,0], wires=ii+1)\n",
    "            qml.RY(weights[jj,2*ii+1,1], wires=ii+1)\n",
    "            qml.RZ(weights[jj,2*ii+1,2], wires=ii+1)\n",
    "\n",
    "            #qml.U3(*list(weights[jj,2*ii,:]), wires=0)\n",
    "            #qml.U3(*list(weights[jj,2*ii+1,:]), wires=ii+1)\n",
    "            qml.CNOT(wires=[ii+1,0])\n",
    "            \n",
    "        qml.RZ(weights[jj,2*(n_qubits-1),0], wires=0)\n",
    "        qml.RY(weights[jj,2*(n_qubits-1),1], wires=0)\n",
    "        qml.RZ(weights[jj,2*(n_qubits-1),2], wires=0)\n",
    "\n",
    "    return qml.expval(qml.PauliZ(0))\n",
    "\n",
    "weight_shapes = {\"weights\": (n_layers, 2*(n_qubits-1)+1, 3) }\n",
    "\n",
    "\n",
    "qlayer = qml.qnn.KerasLayer(qnode, weight_shapes, output_dim=1, name=\"quantumLayer\")\n",
    "inputs = tf.keras.Input(shape=(784,), name=\"inputs\")\n",
    "outputs = qlayer(inputs)\n",
    "model2 = tf.keras.Model(inputs=inputs, outputs=outputs, name=\"QNN\")\n",
    "\n",
    "model2.predict(x_train_small[0,:].reshape(1,-1))\n",
    "print(model2.summary())"
   ]
  },
  {
   "cell_type": "code",
   "execution_count": 44,
   "metadata": {},
   "outputs": [],
   "source": [
    "model2.compile(\n",
    "    loss=tf.keras.losses.Hinge(),\n",
    "    optimizer=tf.keras.optimizers.Adam(),\n",
    "    metrics=[hinge_accuracy])"
   ]
  },
  {
   "cell_type": "code",
   "execution_count": 45,
   "metadata": {},
   "outputs": [
    {
     "name": "stdout",
     "output_type": "stream",
     "text": [
      "512\n",
      "Epoch 1/20\n",
      "16/16 [==============================] - 212s 14s/step - loss: 0.9919 - hinge_accuracy: 0.4902 - val_loss: 0.9878 - val_hinge_accuracy: 0.5116\n",
      "Epoch 2/20\n",
      "16/16 [==============================] - 205s 13s/step - loss: 0.9832 - hinge_accuracy: 0.4902 - val_loss: 0.9794 - val_hinge_accuracy: 0.5121\n",
      "Epoch 3/20\n",
      "16/16 [==============================] - 213s 14s/step - loss: 0.9732 - hinge_accuracy: 0.4922 - val_loss: 0.9708 - val_hinge_accuracy: 0.5131\n",
      "Epoch 4/20\n",
      "16/16 [==============================] - 221s 14s/step - loss: 0.9633 - hinge_accuracy: 0.4961 - val_loss: 0.9617 - val_hinge_accuracy: 0.5197\n",
      "Epoch 5/20\n",
      "16/16 [==============================] - 212s 14s/step - loss: 0.9530 - hinge_accuracy: 0.5078 - val_loss: 0.9521 - val_hinge_accuracy: 0.5307\n",
      "Epoch 6/20\n",
      "16/16 [==============================] - 217s 14s/step - loss: 0.9422 - hinge_accuracy: 0.5293 - val_loss: 0.9425 - val_hinge_accuracy: 0.5570\n",
      "Epoch 7/20\n",
      "16/16 [==============================] - 241s 16s/step - loss: 0.9315 - hinge_accuracy: 0.5781 - val_loss: 0.9329 - val_hinge_accuracy: 0.6295\n",
      "Epoch 8/20\n",
      "16/16 [==============================] - 241s 16s/step - loss: 0.9211 - hinge_accuracy: 0.6738 - val_loss: 0.9235 - val_hinge_accuracy: 0.7172\n",
      "Epoch 9/20\n",
      "16/16 [==============================] - 241s 16s/step - loss: 0.9112 - hinge_accuracy: 0.7637 - val_loss: 0.9142 - val_hinge_accuracy: 0.8231\n",
      "Epoch 10/20\n",
      "16/16 [==============================] - 242s 16s/step - loss: 0.9016 - hinge_accuracy: 0.8516 - val_loss: 0.9057 - val_hinge_accuracy: 0.8710\n",
      "Epoch 11/20\n",
      "16/16 [==============================] - 241s 16s/step - loss: 0.8928 - hinge_accuracy: 0.8926 - val_loss: 0.8975 - val_hinge_accuracy: 0.9133\n",
      "Epoch 12/20\n",
      "16/16 [==============================] - 244s 16s/step - loss: 0.8845 - hinge_accuracy: 0.9355 - val_loss: 0.8898 - val_hinge_accuracy: 0.9304\n",
      "Epoch 13/20\n",
      "16/16 [==============================] - 243s 16s/step - loss: 0.8765 - hinge_accuracy: 0.9492 - val_loss: 0.8825 - val_hinge_accuracy: 0.9400\n",
      "Epoch 14/20\n",
      "16/16 [==============================] - 239s 16s/step - loss: 0.8689 - hinge_accuracy: 0.9551 - val_loss: 0.8754 - val_hinge_accuracy: 0.9476\n",
      "Epoch 15/20\n",
      "16/16 [==============================] - 241s 16s/step - loss: 0.8616 - hinge_accuracy: 0.9570 - val_loss: 0.8685 - val_hinge_accuracy: 0.9531\n",
      "Epoch 16/20\n",
      "16/16 [==============================] - 240s 16s/step - loss: 0.8542 - hinge_accuracy: 0.9609 - val_loss: 0.8620 - val_hinge_accuracy: 0.9546\n",
      "Epoch 17/20\n",
      "16/16 [==============================] - 244s 16s/step - loss: 0.8475 - hinge_accuracy: 0.9570 - val_loss: 0.8556 - val_hinge_accuracy: 0.9516\n",
      "Epoch 18/20\n",
      "16/16 [==============================] - 244s 16s/step - loss: 0.8408 - hinge_accuracy: 0.9570 - val_loss: 0.8495 - val_hinge_accuracy: 0.9496\n",
      "Epoch 19/20\n",
      "16/16 [==============================] - 242s 16s/step - loss: 0.8346 - hinge_accuracy: 0.9551 - val_loss: 0.8438 - val_hinge_accuracy: 0.9481\n",
      "Epoch 20/20\n",
      "16/16 [==============================] - 245s 16s/step - loss: 0.8287 - hinge_accuracy: 0.9551 - val_loss: 0.8386 - val_hinge_accuracy: 0.9491\n",
      "62/62 [==============================] - 144s 2s/step - loss: 0.8386 - hinge_accuracy: 0.9491\n"
     ]
    }
   ],
   "source": [
    "EPOCHS = 20\n",
    "BATCH_SIZE = 32\n",
    "\n",
    "NUM_EXAMPLES = 512 #x_train_small.shape[0]\n",
    "print(NUM_EXAMPLES)\n",
    "\n",
    "x_train_sub = x_train_small[:NUM_EXAMPLES,:]\n",
    "y_train_hinge_sub = y_train_hinge[:NUM_EXAMPLES]\n",
    "\n",
    "x_test_sub = x_test_small[:,:]\n",
    "y_test_sub = y_test[:]\n",
    "\n",
    "qnn_history_2layer = model2.fit(\n",
    "      x_train_sub, y_train_hinge_sub,\n",
    "      batch_size=BATCH_SIZE,\n",
    "      epochs=EPOCHS,\n",
    "      verbose=1,\n",
    "      validation_data=(x_test_sub, y_test_sub))\n",
    "\n",
    "qnn_results_2layer = model2.evaluate(x_test_sub, y_test_sub)"
   ]
  },
  {
   "cell_type": "code",
   "execution_count": 46,
   "metadata": {},
   "outputs": [
    {
     "data": {
      "text/plain": [
       "{'loss': [0.9918835658423661,\n",
       "  0.9831518684641459,\n",
       "  0.9732395253532526,\n",
       "  0.9633359900916635,\n",
       "  0.9530492973159846,\n",
       "  0.942243866326671,\n",
       "  0.9315433380557576,\n",
       "  0.9210791519461905,\n",
       "  0.9111940418979739,\n",
       "  0.9016074148175584,\n",
       "  0.8928286390999405,\n",
       "  0.8844707951543982,\n",
       "  0.8764792389835535,\n",
       "  0.868929488145401,\n",
       "  0.861610599607113,\n",
       "  0.8542287840877346,\n",
       "  0.8474743937613779,\n",
       "  0.8407677177049787,\n",
       "  0.8346174946783933,\n",
       "  0.828719607374954],\n",
       " 'hinge_accuracy': [0.490234375,\n",
       "  0.490234375,\n",
       "  0.4921875,\n",
       "  0.49609375,\n",
       "  0.5078125,\n",
       "  0.529296875,\n",
       "  0.578125,\n",
       "  0.673828125,\n",
       "  0.763671875,\n",
       "  0.8515625,\n",
       "  0.892578125,\n",
       "  0.935546875,\n",
       "  0.94921875,\n",
       "  0.955078125,\n",
       "  0.95703125,\n",
       "  0.9609375,\n",
       "  0.95703125,\n",
       "  0.95703125,\n",
       "  0.955078125,\n",
       "  0.955078125],\n",
       " 'val_loss': [0.9877831963749255,\n",
       "  0.9793629158322258,\n",
       "  0.9708110863488494,\n",
       "  0.9616685785706333,\n",
       "  0.9521454472081826,\n",
       "  0.9425446336314404,\n",
       "  0.932881105408207,\n",
       "  0.9234782224076815,\n",
       "  0.9142218276240694,\n",
       "  0.9056589503816221,\n",
       "  0.8975083405467489,\n",
       "  0.8897900934778735,\n",
       "  0.8825064733391124,\n",
       "  0.8753619430703005,\n",
       "  0.8684717618169052,\n",
       "  0.8620340761981523,\n",
       "  0.8556476913225948,\n",
       "  0.8495279118504379,\n",
       "  0.8438316721537322,\n",
       "  0.8385839047357643],\n",
       " 'val_hinge_accuracy': [0.5115927419354839,\n",
       "  0.5120967741935484,\n",
       "  0.5131048387096774,\n",
       "  0.5196572580645161,\n",
       "  0.5307459677419355,\n",
       "  0.5569556451612904,\n",
       "  0.6295362903225806,\n",
       "  0.7172379032258065,\n",
       "  0.8230846774193549,\n",
       "  0.8709677419354839,\n",
       "  0.9133064516129032,\n",
       "  0.9304435483870968,\n",
       "  0.9400201612903226,\n",
       "  0.9475806451612904,\n",
       "  0.953125,\n",
       "  0.9546370967741935,\n",
       "  0.9516129032258065,\n",
       "  0.9495967741935484,\n",
       "  0.9480846774193549,\n",
       "  0.9490927419354839]}"
      ]
     },
     "execution_count": 46,
     "metadata": {},
     "output_type": "execute_result"
    }
   ],
   "source": [
    "qnn_history_2layer.history"
   ]
  },
  {
   "attachments": {},
   "cell_type": "markdown",
   "metadata": {},
   "source": [
    "## Plot the results!"
   ]
  },
  {
   "cell_type": "code",
   "execution_count": 48,
   "metadata": {},
   "outputs": [
    {
     "data": {
      "image/png": "[encoded data removed]",
      "text/plain": [
       "<Figure size 640x480 with 1 Axes>"
      ]
     },
     "metadata": {},
     "output_type": "display_data"
    }
   ],
   "source": [
    "# plot the hinge accuracy for the qnn history for both 1 and 2 layer on the same axes\n",
    "plt.plot(np.arange(1,21), qnn_history_1layer.history[\"hinge_accuracy\"], label=\"TRAIN - 1 layer QNN\")\n",
    "plt.plot(np.arange(1,21), qnn_history_1layer.history[\"val_hinge_accuracy\"], label=\"VAL - 1 layer QNN\")\n",
    "plt.plot(np.arange(1,21), qnn_history_2layer.history[\"hinge_accuracy\"], label=\"TRAIN - 2 layer QNN\")\n",
    "plt.plot(np.arange(1,21), qnn_history_2layer.history[\"val_hinge_accuracy\"], label=\"VAL - 2 layer QNN\")\n",
    "plt.xlabel(\"Epoch\")\n",
    "plt.ylabel(\"Hinge Accuracy\")\n",
    "plt.legend()\n",
    "# modify x_ticks to also include 20\n",
    "plt.xticks(np.arange(0, 21, 2.5))\n",
    "# save as pdf with tight layout and no padding\n",
    "plt.savefig(\"qnn_hinge_accuracy.pdf\", bbox_inches=\"tight\", pad_inches=0)\n",
    "plt.show()"
   ]
  },
  {
   "cell_type": "code",
   "execution_count": 49,
   "metadata": {},
   "outputs": [
    {
     "data": {
      "image/png": "[encoded data removed]",
      "text/plain": [
       "<Figure size 640x480 with 1 Axes>"
      ]
     },
     "metadata": {},
     "output_type": "display_data"
    }
   ],
   "source": [
    "# plot the hinge accuracy for the loss for both 1 and 2 layer on the same axes\n",
    "plt.plot(np.arange(1,21), qnn_history_1layer.history[\"loss\"], label=\"TRAIN - 1 layer QNN\")\n",
    "plt.plot(np.arange(1,21), qnn_history_1layer.history[\"val_loss\"], label=\"VAL - 1 layer QNN\")\n",
    "plt.plot(np.arange(1,21), qnn_history_2layer.history[\"loss\"], label=\"TRAIN - 2 layer QNN\")\n",
    "plt.plot(np.arange(1,21), qnn_history_2layer.history[\"val_loss\"], label=\"VAL - 2 layer QNN\")\n",
    "plt.xlabel(\"Epoch\")\n",
    "plt.ylabel(\"Hinge Loss\")\n",
    "plt.legend()\n",
    "# modify x_ticks to also include 20\n",
    "plt.xticks(np.arange(0, 21, 2.5))\n",
    "# save as pdf with tight layout and no padding\n",
    "plt.savefig(\"qnn_hinge_loss.pdf\", bbox_inches=\"tight\", pad_inches=0)\n",
    "plt.show()"
   ]
  },
  {
   "cell_type": "code",
   "execution_count": null,
   "metadata": {},
   "outputs": [],
   "source": []
  }
 ],
 "metadata": {
  "kernelspec": {
   "display_name": "py39",
   "language": "python",
   "name": "py39"
  },
  "language_info": {
   "codemirror_mode": {
    "name": "ipython",
    "version": 3
   },
   "file_extension": ".py",
   "mimetype": "text/x-python",
   "name": "python",
   "nbconvert_exporter": "python",
   "pygments_lexer": "ipython3",
   "version": "3.9.13"
  },
  "orig_nbformat": 4,
  "vscode": {
   "interpreter": {
    "hash": "66a612e4ee5d9343e2fda4842cd4535190425ea2d31d59f514fa54a2d33459fb"
   }
  }
 },
 "nbformat": 4,
 "nbformat_minor": 2
}
