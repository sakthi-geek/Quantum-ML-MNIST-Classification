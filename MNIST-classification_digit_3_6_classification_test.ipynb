{
 "cells": [
  {
   "cell_type": "code",
   "execution_count": 10,
   "metadata": {},
   "outputs": [],
   "source": [
    "import pennylane as qml\n",
    "import tensorflow as tf\n",
    "import sklearn.datasets\n",
    "from sklearn.datasets import fetch_openml\n",
    "\n",
    "import numpy as np\n",
    "import pandas as pd\n",
    "\n",
    "from matplotlib import pyplot as plt\n",
    "\n",
    "tf.keras.backend.set_floatx('float64')"
   ]
  },
  {
   "attachments": {},
   "cell_type": "markdown",
   "metadata": {},
   "source": [
    "## Load and reduce the data\n",
    "\n",
    "Load the MNIST data and check number of training and test examples"
   ]
  },
  {
   "cell_type": "code",
   "execution_count": 11,
   "metadata": {},
   "outputs": [
    {
     "name": "stdout",
     "output_type": "stream",
     "text": [
      "Number of original training examples: 60000\n",
      "Number of original test examples: 10000\n"
     ]
    }
   ],
   "source": [
    "(x_train, y_train), (x_test, y_test) = tf.keras.datasets.mnist.load_data()\n",
    "\n",
    "# Rescale the images from [0,255] to the [0.0,1.0] range.\n",
    "x_train, x_test = x_train[..., np.newaxis]/255.0, x_test[..., np.newaxis]/255.0  # add colour dimension\n",
    "\n",
    "print(\"Number of original training examples:\", len(x_train))\n",
    "print(\"Number of original test examples:\", len(x_test))"
   ]
  },
  {
   "attachments": {},
   "cell_type": "markdown",
   "metadata": {},
   "source": [
    "Create a function to filter out only 0 and 1"
   ]
  },
  {
   "cell_type": "code",
   "execution_count": 12,
   "metadata": {},
   "outputs": [],
   "source": [
    "def filter_01(x, y):\n",
    "    keep = (y == 3) | (y == 6)\n",
    "    x, y = x[keep], y[keep]\n",
    "    y = y == 3\n",
    "    return x,y"
   ]
  },
  {
   "cell_type": "code",
   "execution_count": 13,
   "metadata": {},
   "outputs": [
    {
     "name": "stdout",
     "output_type": "stream",
     "text": [
      "Number of filtered training examples: 12049\n",
      "Number of filtered test examples: 1968\n"
     ]
    },
    {
     "data": {
      "text/plain": [
       "True     6131\n",
       "False    5918\n",
       "dtype: int64"
      ]
     },
     "execution_count": 13,
     "metadata": {},
     "output_type": "execute_result"
    }
   ],
   "source": [
    "x_train, y_train = filter_01(x_train, y_train)\n",
    "x_test, y_test = filter_01(x_test, y_test)\n",
    "\n",
    "print(\"Number of filtered training examples:\", len(x_train))\n",
    "print(\"Number of filtered test examples:\", len(x_test))\n",
    "pd.Series(y_train).value_counts()"
   ]
  },
  {
   "attachments": {},
   "cell_type": "markdown",
   "metadata": {},
   "source": [
    "Plot the original images"
   ]
  },
  {
   "cell_type": "code",
   "execution_count": 14,
   "metadata": {},
   "outputs": [
    {
     "data": {
      "image/png": "[encoded data removed]",
      "text/plain": [
       "<Figure size 640x480 with 1 Axes>"
      ]
     },
     "metadata": {},
     "output_type": "display_data"
    }
   ],
   "source": [
    "plt.imshow(x_train[0, :, :, 0], cmap='Greys')\n",
    "ax = plt.gca()\n",
    "ax.set_xticks([])\n",
    "ax.set_yticks([])\n",
    "plt.title(\"28x28 image of a 0\", fontsize=20)\n",
    "# save to file as pdf\n",
    "plt.savefig('28x28_MNIST_0.pdf', bbox_inches='tight', pad_inches=0)\n",
    "plt.show()"
   ]
  },
  {
   "attachments": {},
   "cell_type": "markdown",
   "metadata": {},
   "source": [
    "Reduce images to 9x9"
   ]
  },
  {
   "cell_type": "code",
   "execution_count": 15,
   "metadata": {},
   "outputs": [],
   "source": [
    "x_train_small = tf.image.resize(x_train, (9,9)).numpy()\n",
    "x_test_small = tf.image.resize(x_test, (9,9)).numpy()"
   ]
  },
  {
   "cell_type": "code",
   "execution_count": 16,
   "metadata": {},
   "outputs": [
    {
     "data": {
      "image/png": "[encoded data removed]",
      "text/plain": [
       "<Figure size 640x480 with 1 Axes>"
      ]
     },
     "metadata": {},
     "output_type": "display_data"
    }
   ],
   "source": [
    "plt.imshow(x_train_small[0,:,:,0], vmin=0, vmax=1, cmap='Greys')\n",
    "ax = plt.gca()\n",
    "ax.set_xticks([])\n",
    "ax.set_yticks([])\n",
    "plt.title(\"9x9 image of a 0\", fontsize=20)\n",
    "# save to file as pdf\n",
    "plt.savefig('9x9_MNIST_0.pdf', bbox_inches='tight', pad_inches=0)\n",
    "plt.show()"
   ]
  },
  {
   "attachments": {},
   "cell_type": "markdown",
   "metadata": {},
   "source": [
    "Further reduce images to 9x1"
   ]
  },
  {
   "cell_type": "code",
   "execution_count": 17,
   "metadata": {},
   "outputs": [
    {
     "name": "stdout",
     "output_type": "stream",
     "text": [
      "(12049, 9)\n"
     ]
    },
    {
     "data": {
      "image/png": "[encoded data removed]",
      "text/plain": [
       "<Figure size 640x480 with 1 Axes>"
      ]
     },
     "metadata": {},
     "output_type": "display_data"
    }
   ],
   "source": [
    "x_train_small = x_train_small[:,4,:,:].reshape((-1,9))  # take only central slices\n",
    "x_test_small = x_test_small[:,4,:,:].reshape((-1,9))  # take only central slices\n",
    "print(x_train_small.shape)\n",
    "plt.imshow(x_train_small[0,:].reshape((1,-1)), vmin=0, vmax=1, cmap='Greys')\n",
    "ax = plt.gca()\n",
    "ax.set_xticks([])\n",
    "ax.set_yticks([])\n",
    "plt.title(\"9x1 image of a 0\", fontsize=20)\n",
    "# save to file as pdf\n",
    "plt.savefig('9x1_MNIST_0.pdf', bbox_inches='tight', pad_inches=0)\n",
    "plt.show()\n"
   ]
  },
  {
   "attachments": {},
   "cell_type": "markdown",
   "metadata": {},
   "source": [
    "## Set up the Quantum Neural Network\n",
    "\n",
    "Create quantum circuit using pennylane qnode, then conver this to a Keras layer to make a Keras model"
   ]
  },
  {
   "cell_type": "code",
   "execution_count": 18,
   "metadata": {},
   "outputs": [
    {
     "name": "stdout",
     "output_type": "stream",
     "text": [
      "1/1 [==============================] - 0s 426ms/step\n",
      "Model: \"QNN\"\n",
      "_________________________________________________________________\n",
      " Layer (type)                Output Shape              Param #   \n",
      "=================================================================\n",
      " inputs (InputLayer)         [(None, 9)]               0         \n",
      "                                                                 \n",
      " quantumLayer (KerasLayer)   (None, 1)                 51        \n",
      "                                                                 \n",
      "=================================================================\n",
      "Total params: 51\n",
      "Trainable params: 51\n",
      "Non-trainable params: 0\n",
      "_________________________________________________________________\n",
      "None\n"
     ]
    }
   ],
   "source": [
    "n_qubits = 9\n",
    "n_layers = 1\n",
    "dev = qml.device(\"default.qubit\", wires=n_qubits)\n",
    "\n",
    "@qml.qnode(dev, diff_method=\"adjoint\")\n",
    "def qnode(inputs, weights):\n",
    "\n",
    "    for ii in range(n_qubits):\n",
    "        qml.RY(np.pi * inputs[ii], wires=ii)\n",
    "\n",
    "    for jj in range(n_layers):\n",
    "        for ii in range(n_qubits-1):\n",
    "            qml.RZ(weights[jj,2*ii,0], wires=0)\n",
    "            qml.RY(weights[jj,2*ii,1], wires=0)\n",
    "            qml.RZ(weights[jj,2*ii,2], wires=0)\n",
    "\n",
    "            qml.RZ(weights[jj,2*ii+1,0], wires=ii+1)\n",
    "            qml.RY(weights[jj,2*ii+1,1], wires=ii+1)\n",
    "            qml.RZ(weights[jj,2*ii+1,2], wires=ii+1)\n",
    "\n",
    "            #qml.U3(*list(weights[jj,2*ii,:]), wires=0)\n",
    "            #qml.U3(*list(weights[jj,2*ii+1,:]), wires=ii+1)\n",
    "            qml.CNOT(wires=[ii+1,0])\n",
    "            \n",
    "        qml.RZ(weights[jj,2*(n_qubits-1),0], wires=0)\n",
    "        qml.RY(weights[jj,2*(n_qubits-1),1], wires=0)\n",
    "        qml.RZ(weights[jj,2*(n_qubits-1),2], wires=0)\n",
    "\n",
    "    return qml.expval(qml.PauliZ(0))\n",
    "\n",
    "weight_shapes = {\"weights\": (n_layers, 2*(n_qubits-1)+1, 3) }\n",
    "\n",
    "\n",
    "qlayer = qml.qnn.KerasLayer(qnode, weight_shapes, output_dim=1, name=\"quantumLayer\")\n",
    "inputs = tf.keras.Input(shape=(n_qubits,), name=\"inputs\")\n",
    "outputs = qlayer(inputs)\n",
    "model = tf.keras.Model(inputs=inputs, outputs=outputs, name=\"QNN\")\n",
    "\n",
    "model.predict(x_train_small[0,:])\n",
    "print(model.summary())"
   ]
  },
  {
   "cell_type": "code",
   "execution_count": null,
   "metadata": {},
   "outputs": [],
   "source": [
    "def create_quantum_model(n_qubits, n_layers):\n",
    "    \n",
    "    # Create a quantum device with the specified number of qubits\n",
    "    dev = qml.device(\"default.qubit\", wires=n_qubits)\n",
    "\n",
    "    @qml.qnode(dev, diff_method=\"adjoint\")\n",
    "    def qnode(inputs, weights):\n",
    "        \n",
    "        # Apply RY rotations based on input values\n",
    "        for ii in range(n_qubits):\n",
    "            qml.RY(np.pi * inputs[ii], wires=ii)\n",
    "\n",
    "        # Apply quantum layers\n",
    "        for jj in range(n_layers):\n",
    "            for ii in range(n_qubits-1):\n",
    "                \n",
    "                # Apply RZ, RY, RZ gates on wire 0\n",
    "                qml.RZ(weights[jj, 2*ii, 0], wires=0)\n",
    "                qml.RY(weights[jj, 2*ii, 1], wires=0)\n",
    "                qml.RZ(weights[jj, 2*ii, 2], wires=0)\n",
    "\n",
    "                # Apply RZ, RY, RZ gates on wire (ii + 1)\n",
    "                qml.RZ(weights[jj, 2*ii+1, 0], wires=ii+1)\n",
    "                qml.RY(weights[jj, 2*ii+1, 1], wires=ii+1)\n",
    "                qml.RZ(weights[jj, 2*ii+1, 2], wires=ii+1)\n",
    "\n",
    "                # Apply CNOT gate between wire (ii + 1) and wire 0\n",
    "                qml.CNOT(wires=[ii+1, 0])\n",
    "\n",
    "            # Apply RZ, RY, RZ gates on wire 0 after the CNOTs\n",
    "            qml.RZ(weights[jj, 2*(n_qubits-1), 0], wires=0)\n",
    "            qml.RY(weights[jj, 2*(n_qubits-1), 1], wires=0)\n",
    "            qml.RZ(weights[jj, 2*(n_qubits-1), 2], wires=0)\n",
    "\n",
    "        # Measure the expectation value of Pauli-Z on wire 0\n",
    "        return qml.expval(qml.PauliZ(0))\n",
    "\n",
    "    # Define weight shapes for the KerasLayer\n",
    "    weight_shapes = {\"weights\": (n_layers, 2*(n_qubits-1)+1, 3)}\n",
    "\n",
    "    # Create the quantum layer with the qnode and weight_shapes\n",
    "    qlayer = qml.qnn.KerasLayer(qnode, weight_shapes, output_dim=1, name=\"quantumLayer\")\n",
    "\n",
    "    # Create the Keras input layer with the shape of the inputs\n",
    "    inputs = tf.keras.Input(shape=(n_qubits,), name=\"inputs\")\n",
    "\n",
    "    # Connect the quantum layer to the inputs\n",
    "    outputs = qlayer(inputs)\n",
    "\n",
    "    # Create the Keras model with the inputs and outputs\n",
    "    model = tf.keras.Model(inputs=inputs, outputs=outputs, name=\"QNN\")\n",
    "\n",
    "    return model, qnode\n",
    "\n",
    "model, q_node = create_quantum_model(n_qubits, n_layers)\n",
    "model.predict(x_train_sliced[0,:])\n",
    "print(model.summary())\n",
    "plot_model(model, to_file=\"quantum_ml_model.png\", show_shapes=True, show_dtype=True, show_layer_names=True)"
   ]
  },
  {
   "cell_type": "code",
   "execution_count": 22,
   "metadata": {},
   "outputs": [
    {
     "data": {
      "image/png": "[encoded data removed]",
      "text/plain": [
       "<IPython.core.display.Image object>"
      ]
     },
     "execution_count": 22,
     "metadata": {},
     "output_type": "execute_result"
    }
   ],
   "source": [
    "from tensorflow.keras.utils import plot_model\n",
    "\n",
    "plot_model(model, to_file=\"quantum_ml_model.png\", show_shapes=True, show_dtype=True, show_layer_names=True)"
   ]
  },
  {
   "cell_type": "code",
   "execution_count": 21,
   "metadata": {},
   "outputs": [
    {
     "name": "stdout",
     "output_type": "stream",
     "text": [
      "0: ──RY(2.75)──RZ(0.90)──RY(0.21)──RZ(0.65)─╭X──RZ(0.18)──RY(0.33)──RZ(0.20)─╭X──RZ(0.14)──RY(0.39)\n",
      "1: ──RY(1.97)──RZ(0.79)──RY(0.41)──RZ(0.53)─╰●───────────────────────────────│─────────────────────\n",
      "2: ──RY(2.92)──RZ(0.20)──RY(0.90)──RZ(0.58)──────────────────────────────────╰●────────────────────\n",
      "3: ──RY(0.63)──RZ(0.21)──RY(0.64)──RZ(0.95)────────────────────────────────────────────────────────\n",
      "4: ──RY(2.56)──RZ(0.26)──RY(0.63)──RZ(0.27)────────────────────────────────────────────────────────\n",
      "5: ──RY(3.05)──RZ(0.18)──RY(0.16)──RZ(0.44)────────────────────────────────────────────────────────\n",
      "6: ──RY(1.74)──RZ(0.18)──RY(0.66)──RZ(0.02)────────────────────────────────────────────────────────\n",
      "7: ──RY(0.42)──RZ(0.74)──RY(0.86)──RZ(0.51)────────────────────────────────────────────────────────\n",
      "8: ──RY(1.12)──RZ(0.63)──RY(0.90)──RZ(0.19)────────────────────────────────────────────────────────\n",
      "\n",
      "───RZ(0.57)─╭X──RZ(0.25)──RY(0.35)──RZ(0.22)─╭X──RZ(0.75)──RY(0.04)──RZ(0.52)─╭X──RZ(0.70)──RY(0.53)\n",
      "────────────│────────────────────────────────│────────────────────────────────│─────────────────────\n",
      "────────────│────────────────────────────────│────────────────────────────────│─────────────────────\n",
      "────────────╰●───────────────────────────────│────────────────────────────────│─────────────────────\n",
      "─────────────────────────────────────────────╰●───────────────────────────────│─────────────────────\n",
      "──────────────────────────────────────────────────────────────────────────────╰●────────────────────\n",
      "────────────────────────────────────────────────────────────────────────────────────────────────────\n",
      "────────────────────────────────────────────────────────────────────────────────────────────────────\n",
      "────────────────────────────────────────────────────────────────────────────────────────────────────\n",
      "\n",
      "───RZ(0.80)─╭X──RZ(0.17)──RY(0.15)──RZ(0.77)─╭X──RZ(0.47)──RY(0.76)──RZ(0.94)─╭X──RZ(0.46)──RY(0.13)\n",
      "────────────│────────────────────────────────│────────────────────────────────│─────────────────────\n",
      "────────────│────────────────────────────────│────────────────────────────────│─────────────────────\n",
      "────────────│────────────────────────────────│────────────────────────────────│─────────────────────\n",
      "────────────│────────────────────────────────│────────────────────────────────│─────────────────────\n",
      "────────────│────────────────────────────────│────────────────────────────────│─────────────────────\n",
      "────────────╰●───────────────────────────────│────────────────────────────────│─────────────────────\n",
      "─────────────────────────────────────────────╰●───────────────────────────────│─────────────────────\n",
      "──────────────────────────────────────────────────────────────────────────────╰●────────────────────\n",
      "\n",
      "───RZ(0.96)─┤  <Z>\n",
      "────────────┤     \n",
      "────────────┤     \n",
      "────────────┤     \n",
      "────────────┤     \n",
      "────────────┤     \n",
      "────────────┤     \n",
      "────────────┤     \n",
      "────────────┤     \n"
     ]
    }
   ],
   "source": [
    "circuit_diagram = qml.draw(qnode)\n",
    "sample_inputs = np.random.rand(n_qubits)\n",
    "sample_weights = np.random.rand(n_layers, 2*(n_qubits-1)+1, 3)\n",
    "\n",
    "print(circuit_diagram(sample_inputs, sample_weights))"
   ]
  },
  {
   "attachments": {},
   "cell_type": "markdown",
   "metadata": {},
   "source": [
    "Redefine the classification values to match the Hinge loss"
   ]
  },
  {
   "cell_type": "code",
   "execution_count": 34,
   "metadata": {},
   "outputs": [],
   "source": [
    "y_train_hinge = 2.0*y_train-1.0\n",
    "y_test_hinge = 2.0*y_test-1.0"
   ]
  },
  {
   "attachments": {},
   "cell_type": "markdown",
   "metadata": {},
   "source": [
    "Define the hinge accuracy"
   ]
  },
  {
   "cell_type": "code",
   "execution_count": 35,
   "metadata": {},
   "outputs": [],
   "source": [
    "def hinge_accuracy(y_true, y_pred):\n",
    "    y_true = tf.squeeze(y_true) > 0.0\n",
    "    y_pred = tf.squeeze(y_pred) > 0.0\n",
    "    result = tf.cast(y_true == y_pred, tf.float32)\n",
    "\n",
    "    return tf.reduce_mean(result)"
   ]
  },
  {
   "attachments": {},
   "cell_type": "markdown",
   "metadata": {},
   "source": [
    "## Compile and train the model\n",
    "\n",
    "Compile the model using the hinge loss and accuracy and the Adam optimiser"
   ]
  },
  {
   "cell_type": "code",
   "execution_count": 36,
   "metadata": {},
   "outputs": [],
   "source": [
    "model.compile(\n",
    "    loss=tf.keras.losses.Hinge(),\n",
    "    optimizer=tf.keras.optimizers.Adam(),\n",
    "    metrics=[hinge_accuracy])"
   ]
  },
  {
   "cell_type": "code",
   "execution_count": 37,
   "metadata": {},
   "outputs": [
    {
     "name": "stdout",
     "output_type": "stream",
     "text": [
      "Model: \"QNN\"\n",
      "_________________________________________________________________\n",
      " Layer (type)                Output Shape              Param #   \n",
      "=================================================================\n",
      " inputs (InputLayer)         [(None, 9)]               0         \n",
      "                                                                 \n",
      " quantumLayer (KerasLayer)   (None, 1)                 51        \n",
      "                                                                 \n",
      "=================================================================\n",
      "Total params: 51\n",
      "Trainable params: 51\n",
      "Non-trainable params: 0\n",
      "_________________________________________________________________\n",
      "None\n"
     ]
    }
   ],
   "source": [
    "print(model.summary())"
   ]
  },
  {
   "attachments": {},
   "cell_type": "markdown",
   "metadata": {},
   "source": [
    "Train the model over 20 epochs"
   ]
  },
  {
   "cell_type": "code",
   "execution_count": 39,
   "metadata": {},
   "outputs": [
    {
     "name": "stdout",
     "output_type": "stream",
     "text": [
      "512\n",
      "Epoch 1/20\n",
      "16/16 [==============================] - 116s 8s/step - loss: 0.7949 - hinge_accuracy: 0.7754 - val_loss: 0.7842 - val_hinge_accuracy: 0.8029\n",
      "Epoch 2/20\n",
      "16/16 [==============================] - 129s 8s/step - loss: 0.7478 - hinge_accuracy: 0.8398 - val_loss: 0.7406 - val_hinge_accuracy: 0.8619\n",
      "Epoch 3/20\n",
      "16/16 [==============================] - 130s 8s/step - loss: 0.6949 - hinge_accuracy: 0.9082 - val_loss: 0.6912 - val_hinge_accuracy: 0.8886\n",
      "Epoch 4/20\n",
      "16/16 [==============================] - 122s 8s/step - loss: 0.6369 - hinge_accuracy: 0.9238 - val_loss: 0.6366 - val_hinge_accuracy: 0.9027\n",
      "Epoch 5/20\n",
      "16/16 [==============================] - 122s 8s/step - loss: 0.5746 - hinge_accuracy: 0.9355 - val_loss: 0.5780 - val_hinge_accuracy: 0.9254\n",
      "Epoch 6/20\n",
      "16/16 [==============================] - 124s 8s/step - loss: 0.5098 - hinge_accuracy: 0.9531 - val_loss: 0.5184 - val_hinge_accuracy: 0.9420\n",
      "Epoch 7/20\n",
      "16/16 [==============================] - 122s 8s/step - loss: 0.4452 - hinge_accuracy: 0.9727 - val_loss: 0.4587 - val_hinge_accuracy: 0.9572\n",
      "Epoch 8/20\n",
      "16/16 [==============================] - 120s 8s/step - loss: 0.3837 - hinge_accuracy: 0.9805 - val_loss: 0.4018 - val_hinge_accuracy: 0.9642\n",
      "Epoch 9/20\n",
      "16/16 [==============================] - 124s 8s/step - loss: 0.3262 - hinge_accuracy: 0.9844 - val_loss: 0.3503 - val_hinge_accuracy: 0.9672\n",
      "Epoch 10/20\n",
      "16/16 [==============================] - 125s 8s/step - loss: 0.2753 - hinge_accuracy: 0.9844 - val_loss: 0.3059 - val_hinge_accuracy: 0.9693\n",
      "Epoch 11/20\n",
      "16/16 [==============================] - 124s 8s/step - loss: 0.2330 - hinge_accuracy: 0.9883 - val_loss: 0.2680 - val_hinge_accuracy: 0.9698\n",
      "Epoch 12/20\n",
      "16/16 [==============================] - 127s 8s/step - loss: 0.1973 - hinge_accuracy: 0.9883 - val_loss: 0.2377 - val_hinge_accuracy: 0.9718\n",
      "Epoch 13/20\n",
      "16/16 [==============================] - 123s 8s/step - loss: 0.1697 - hinge_accuracy: 0.9922 - val_loss: 0.2133 - val_hinge_accuracy: 0.9738\n",
      "Epoch 14/20\n",
      "16/16 [==============================] - 127s 8s/step - loss: 0.1482 - hinge_accuracy: 0.9922 - val_loss: 0.1945 - val_hinge_accuracy: 0.9753\n",
      "Epoch 15/20\n",
      "16/16 [==============================] - 125s 8s/step - loss: 0.1319 - hinge_accuracy: 0.9922 - val_loss: 0.1801 - val_hinge_accuracy: 0.9763\n",
      "Epoch 16/20\n",
      "16/16 [==============================] - 120s 8s/step - loss: 0.1197 - hinge_accuracy: 0.9922 - val_loss: 0.1692 - val_hinge_accuracy: 0.9773\n",
      "Epoch 17/20\n",
      "16/16 [==============================] - 123s 8s/step - loss: 0.1105 - hinge_accuracy: 0.9922 - val_loss: 0.1608 - val_hinge_accuracy: 0.9788\n",
      "Epoch 18/20\n",
      "16/16 [==============================] - 123s 8s/step - loss: 0.1037 - hinge_accuracy: 0.9922 - val_loss: 0.1540 - val_hinge_accuracy: 0.9803\n",
      "Epoch 19/20\n",
      "16/16 [==============================] - 122s 8s/step - loss: 0.0981 - hinge_accuracy: 0.9922 - val_loss: 0.1486 - val_hinge_accuracy: 0.9803\n",
      "Epoch 20/20\n",
      "16/16 [==============================] - 117s 8s/step - loss: 0.0939 - hinge_accuracy: 0.9922 - val_loss: 0.1440 - val_hinge_accuracy: 0.9808\n",
      "62/62 [==============================] - 76s 1s/step - loss: 0.1440 - hinge_accuracy: 0.9808\n"
     ]
    }
   ],
   "source": [
    "EPOCHS = 20\n",
    "BATCH_SIZE = 32\n",
    "\n",
    "NUM_EXAMPLES = 512 #x_train_small.shape[0]\n",
    "print(NUM_EXAMPLES)\n",
    "\n",
    "x_train_sub = x_train_small[:NUM_EXAMPLES,:]\n",
    "y_train_hinge_sub = y_train_hinge[:NUM_EXAMPLES]\n",
    "\n",
    "x_test_sub = x_test_small[:,:]\n",
    "y_test_sub = y_test[:]\n",
    "\n",
    "qnn_history_1layer = model.fit(\n",
    "      x_train_sub, y_train_hinge_sub,\n",
    "      batch_size=BATCH_SIZE,\n",
    "      epochs=EPOCHS,\n",
    "      verbose=1,\n",
    "      validation_data=(x_test_sub, y_test_sub))\n",
    "\n",
    "qnn_results_1layer = model.evaluate(x_test_sub, y_test_sub)"
   ]
  },
  {
   "cell_type": "code",
   "execution_count": 49,
   "metadata": {},
   "outputs": [
    {
     "data": {
      "text/plain": [
       "{'loss': [0.7948610737076639,\n",
       "  0.747792502576677,\n",
       "  0.6949325005123872,\n",
       "  0.63687125836657,\n",
       "  0.5746490536454402,\n",
       "  0.5097967228108742,\n",
       "  0.4452283333492036,\n",
       "  0.3837232509988997,\n",
       "  0.326215743752812,\n",
       "  0.275303303158548,\n",
       "  0.2329972143218012,\n",
       "  0.1973051505247757,\n",
       "  0.16970821046253975,\n",
       "  0.14815786166757106,\n",
       "  0.13192971004601295,\n",
       "  0.11967931721619546,\n",
       "  0.11047155728175485,\n",
       "  0.103677711187808,\n",
       "  0.09814878346648996,\n",
       "  0.0939320501603964],\n",
       " 'hinge_accuracy': [0.775390625,\n",
       "  0.83984375,\n",
       "  0.908203125,\n",
       "  0.923828125,\n",
       "  0.935546875,\n",
       "  0.953125,\n",
       "  0.97265625,\n",
       "  0.98046875,\n",
       "  0.984375,\n",
       "  0.984375,\n",
       "  0.98828125,\n",
       "  0.98828125,\n",
       "  0.9921875,\n",
       "  0.9921875,\n",
       "  0.9921875,\n",
       "  0.9921875,\n",
       "  0.9921875,\n",
       "  0.9921875,\n",
       "  0.9921875,\n",
       "  0.9921875],\n",
       " 'val_loss': [0.7841518037654658,\n",
       "  0.7405903996850309,\n",
       "  0.6912318639937944,\n",
       "  0.636639164014819,\n",
       "  0.5780122791066481,\n",
       "  0.5183518558250495,\n",
       "  0.45866246354486634,\n",
       "  0.40181119262681886,\n",
       "  0.3503085625247908,\n",
       "  0.30593768987919956,\n",
       "  0.2679786654576807,\n",
       "  0.23773485846057982,\n",
       "  0.21330243146748154,\n",
       "  0.19449756440640623,\n",
       "  0.1800564377115347,\n",
       "  0.16915863357399036,\n",
       "  0.16079108338587417,\n",
       "  0.1539803341417857,\n",
       "  0.14863778121007462,\n",
       "  0.14404912734313635],\n",
       " 'val_hinge_accuracy': [0.8029233870967742,\n",
       "  0.8618951612903226,\n",
       "  0.8886088709677419,\n",
       "  0.9027217741935484,\n",
       "  0.9254032258064516,\n",
       "  0.9420362903225806,\n",
       "  0.9571572580645161,\n",
       "  0.9642137096774194,\n",
       "  0.9672379032258065,\n",
       "  0.9692540322580645,\n",
       "  0.969758064516129,\n",
       "  0.9717741935483871,\n",
       "  0.9737903225806451,\n",
       "  0.9753024193548387,\n",
       "  0.9763104838709677,\n",
       "  0.9773185483870968,\n",
       "  0.9788306451612904,\n",
       "  0.9803427419354839,\n",
       "  0.9803427419354839,\n",
       "  0.9808467741935484]}"
      ]
     },
     "execution_count": 49,
     "metadata": {},
     "output_type": "execute_result"
    }
   ],
   "source": [
    "qnn_history_1layer.history"
   ]
  },
  {
   "attachments": {},
   "cell_type": "markdown",
   "metadata": {},
   "source": [
    "Create and train a 2 layer version of the QNN"
   ]
  },
  {
   "cell_type": "code",
   "execution_count": 41,
   "metadata": {},
   "outputs": [
    {
     "name": "stdout",
     "output_type": "stream",
     "text": [
      "1/1 [==============================] - 0s 94ms/step\n",
      "Model: \"QNN\"\n",
      "_________________________________________________________________\n",
      " Layer (type)                Output Shape              Param #   \n",
      "=================================================================\n",
      " inputs (InputLayer)         [(None, 9)]               0         \n",
      "                                                                 \n",
      " quantumLayer (KerasLayer)   (None, 1)                 102       \n",
      "                                                                 \n",
      "=================================================================\n",
      "Total params: 102\n",
      "Trainable params: 102\n",
      "Non-trainable params: 0\n",
      "_________________________________________________________________\n",
      "None\n"
     ]
    }
   ],
   "source": [
    "n_qubits = 9\n",
    "n_layers = 2\n",
    "dev = qml.device(\"default.qubit\", wires=n_qubits)\n",
    "\n",
    "@qml.qnode(dev, diff_method=\"adjoint\")\n",
    "def qnode(inputs, weights):\n",
    "\n",
    "    for ii in range(n_qubits):\n",
    "        qml.RY(np.pi * inputs[ii], wires=ii)\n",
    "\n",
    "    for jj in range(n_layers):\n",
    "        for ii in range(n_qubits-1):\n",
    "            qml.RZ(weights[jj,2*ii,0], wires=0)\n",
    "            qml.RY(weights[jj,2*ii,1], wires=0)\n",
    "            qml.RZ(weights[jj,2*ii,2], wires=0)\n",
    "\n",
    "            qml.RZ(weights[jj,2*ii+1,0], wires=ii+1)\n",
    "            qml.RY(weights[jj,2*ii+1,1], wires=ii+1)\n",
    "            qml.RZ(weights[jj,2*ii+1,2], wires=ii+1)\n",
    "\n",
    "            #qml.U3(*list(weights[jj,2*ii,:]), wires=0)\n",
    "            #qml.U3(*list(weights[jj,2*ii+1,:]), wires=ii+1)\n",
    "            qml.CNOT(wires=[ii+1,0])\n",
    "            \n",
    "        qml.RZ(weights[jj,2*(n_qubits-1),0], wires=0)\n",
    "        qml.RY(weights[jj,2*(n_qubits-1),1], wires=0)\n",
    "        qml.RZ(weights[jj,2*(n_qubits-1),2], wires=0)\n",
    "\n",
    "    return qml.expval(qml.PauliZ(0))\n",
    "\n",
    "weight_shapes = {\"weights\": (n_layers, 2*(n_qubits-1)+1, 3) }\n",
    "\n",
    "\n",
    "qlayer = qml.qnn.KerasLayer(qnode, weight_shapes, output_dim=1, name=\"quantumLayer\")\n",
    "inputs = tf.keras.Input(shape=(n_qubits,), name=\"inputs\")\n",
    "outputs = qlayer(inputs)\n",
    "model2 = tf.keras.Model(inputs=inputs, outputs=outputs, name=\"QNN\")\n",
    "\n",
    "model2.predict(x_train_small[0,:])\n",
    "print(model2.summary())"
   ]
  },
  {
   "cell_type": "code",
   "execution_count": 42,
   "metadata": {},
   "outputs": [],
   "source": [
    "model2.compile(\n",
    "    loss=tf.keras.losses.Hinge(),\n",
    "    optimizer=tf.keras.optimizers.Adam(),\n",
    "    metrics=[hinge_accuracy])"
   ]
  },
  {
   "cell_type": "code",
   "execution_count": 43,
   "metadata": {},
   "outputs": [
    {
     "name": "stdout",
     "output_type": "stream",
     "text": [
      "512\n",
      "Epoch 1/20\n",
      "16/16 [==============================] - 221s 14s/step - loss: 1.3413 - hinge_accuracy: 0.1426 - val_loss: 1.3481 - val_hinge_accuracy: 0.1159\n",
      "Epoch 2/20\n",
      "16/16 [==============================] - 230s 15s/step - loss: 1.2572 - hinge_accuracy: 0.1738 - val_loss: 1.2678 - val_hinge_accuracy: 0.1497\n",
      "Epoch 3/20\n",
      "16/16 [==============================] - 223s 14s/step - loss: 1.1718 - hinge_accuracy: 0.2227 - val_loss: 1.1823 - val_hinge_accuracy: 0.2087\n",
      "Epoch 4/20\n",
      "16/16 [==============================] - 225s 15s/step - loss: 1.0806 - hinge_accuracy: 0.3242 - val_loss: 1.0901 - val_hinge_accuracy: 0.3392\n",
      "Epoch 5/20\n",
      "16/16 [==============================] - 230s 15s/step - loss: 0.9835 - hinge_accuracy: 0.5137 - val_loss: 0.9902 - val_hinge_accuracy: 0.5197\n",
      "Epoch 6/20\n",
      "16/16 [==============================] - 226s 15s/step - loss: 0.8788 - hinge_accuracy: 0.6738 - val_loss: 0.8858 - val_hinge_accuracy: 0.6573\n",
      "Epoch 7/20\n",
      "16/16 [==============================] - 219s 14s/step - loss: 0.7720 - hinge_accuracy: 0.8164 - val_loss: 0.7782 - val_hinge_accuracy: 0.7923\n",
      "Epoch 8/20\n",
      "16/16 [==============================] - 226s 15s/step - loss: 0.6649 - hinge_accuracy: 0.9180 - val_loss: 0.6743 - val_hinge_accuracy: 0.8931\n",
      "Epoch 9/20\n",
      "16/16 [==============================] - 221s 14s/step - loss: 0.5650 - hinge_accuracy: 0.9590 - val_loss: 0.5776 - val_hinge_accuracy: 0.9274\n",
      "Epoch 10/20\n",
      "16/16 [==============================] - 226s 15s/step - loss: 0.4750 - hinge_accuracy: 0.9648 - val_loss: 0.4921 - val_hinge_accuracy: 0.9516\n",
      "Epoch 11/20\n",
      "16/16 [==============================] - 223s 14s/step - loss: 0.3974 - hinge_accuracy: 0.9785 - val_loss: 0.4202 - val_hinge_accuracy: 0.9627\n",
      "Epoch 12/20\n",
      "16/16 [==============================] - 226s 15s/step - loss: 0.3334 - hinge_accuracy: 0.9844 - val_loss: 0.3609 - val_hinge_accuracy: 0.9688\n",
      "Epoch 13/20\n",
      "16/16 [==============================] - 229s 15s/step - loss: 0.2814 - hinge_accuracy: 0.9902 - val_loss: 0.3126 - val_hinge_accuracy: 0.9743\n",
      "Epoch 14/20\n",
      "16/16 [==============================] - 259s 17s/step - loss: 0.2395 - hinge_accuracy: 0.9961 - val_loss: 0.2722 - val_hinge_accuracy: 0.9753\n",
      "Epoch 15/20\n",
      "16/16 [==============================] - 323s 21s/step - loss: 0.2042 - hinge_accuracy: 0.9961 - val_loss: 0.2390 - val_hinge_accuracy: 0.9768\n",
      "Epoch 16/20\n",
      "16/16 [==============================] - 253s 16s/step - loss: 0.1753 - hinge_accuracy: 0.9980 - val_loss: 0.2106 - val_hinge_accuracy: 0.9793\n",
      "Epoch 17/20\n",
      "16/16 [==============================] - 323s 21s/step - loss: 0.1507 - hinge_accuracy: 0.9980 - val_loss: 0.1858 - val_hinge_accuracy: 0.9839\n",
      "Epoch 18/20\n",
      "16/16 [==============================] - 265s 17s/step - loss: 0.1294 - hinge_accuracy: 0.9980 - val_loss: 0.1649 - val_hinge_accuracy: 0.9849\n",
      "Epoch 19/20\n",
      "16/16 [==============================] - 264s 17s/step - loss: 0.1114 - hinge_accuracy: 0.9980 - val_loss: 0.1468 - val_hinge_accuracy: 0.9874\n",
      "Epoch 20/20\n",
      "16/16 [==============================] - 262s 17s/step - loss: 0.0962 - hinge_accuracy: 1.0000 - val_loss: 0.1312 - val_hinge_accuracy: 0.9899\n",
      "62/62 [==============================] - 169s 3s/step - loss: 0.1312 - hinge_accuracy: 0.9899\n"
     ]
    }
   ],
   "source": [
    "EPOCHS = 20\n",
    "BATCH_SIZE = 32\n",
    "\n",
    "NUM_EXAMPLES = 512 #x_train_small.shape[0]\n",
    "print(NUM_EXAMPLES)\n",
    "\n",
    "x_train_sub = x_train_small[:NUM_EXAMPLES,:]\n",
    "y_train_hinge_sub = y_train_hinge[:NUM_EXAMPLES]\n",
    "\n",
    "x_test_sub = x_test_small[:,:]\n",
    "y_test_sub = y_test[:]\n",
    "\n",
    "qnn_history_2layer = model2.fit(\n",
    "      x_train_sub, y_train_hinge_sub,\n",
    "      batch_size=BATCH_SIZE,\n",
    "      epochs=EPOCHS,\n",
    "      verbose=1,\n",
    "      validation_data=(x_test_sub, y_test_sub))\n",
    "\n",
    "qnn_results_2layer = model2.evaluate(x_test_sub, y_test_sub)"
   ]
  },
  {
   "cell_type": "code",
   "execution_count": 45,
   "metadata": {},
   "outputs": [
    {
     "data": {
      "text/plain": [
       "{'loss': [1.3413382869175614,\n",
       "  1.257158245783547,\n",
       "  1.1717778574682909,\n",
       "  1.0805867696149776,\n",
       "  0.9834880632450164,\n",
       "  0.8788159335340346,\n",
       "  0.7720185404790528,\n",
       "  0.6648715723502568,\n",
       "  0.5650397934258788,\n",
       "  0.4750214415105203,\n",
       "  0.39739542345157464,\n",
       "  0.33343198183226064,\n",
       "  0.2813899822297749,\n",
       "  0.23949438801413053,\n",
       "  0.20422700741697178,\n",
       "  0.17526618262852978,\n",
       "  0.15071860022352598,\n",
       "  0.1294208141592533,\n",
       "  0.11144211520870792,\n",
       "  0.09621070616034656],\n",
       " 'hinge_accuracy': [0.142578125,\n",
       "  0.173828125,\n",
       "  0.22265625,\n",
       "  0.32421875,\n",
       "  0.513671875,\n",
       "  0.673828125,\n",
       "  0.81640625,\n",
       "  0.91796875,\n",
       "  0.958984375,\n",
       "  0.96484375,\n",
       "  0.978515625,\n",
       "  0.984375,\n",
       "  0.990234375,\n",
       "  0.99609375,\n",
       "  0.99609375,\n",
       "  0.998046875,\n",
       "  0.998046875,\n",
       "  0.998046875,\n",
       "  0.998046875,\n",
       "  1.0],\n",
       " 'val_loss': [1.3480957858191063,\n",
       "  1.2678485014292395,\n",
       "  1.1822944548006231,\n",
       "  1.0900566090809363,\n",
       "  0.9902096832225786,\n",
       "  0.8858413965523876,\n",
       "  0.778242943948875,\n",
       "  0.6742622187171513,\n",
       "  0.5775994367846176,\n",
       "  0.49206464410612855,\n",
       "  0.42022965025275655,\n",
       "  0.36094937831371854,\n",
       "  0.3126056939282153,\n",
       "  0.27215341787730174,\n",
       "  0.23895672798251877,\n",
       "  0.21056317351458753,\n",
       "  0.1858214484932709,\n",
       "  0.16488399009282886,\n",
       "  0.14678521614752124,\n",
       "  0.1312039906957503],\n",
       " 'val_hinge_accuracy': [0.1159274193548387,\n",
       "  0.14969758064516128,\n",
       "  0.2086693548387097,\n",
       "  0.3392137096774194,\n",
       "  0.5196572580645161,\n",
       "  0.657258064516129,\n",
       "  0.7923387096774194,\n",
       "  0.8931451612903226,\n",
       "  0.9274193548387096,\n",
       "  0.9516129032258065,\n",
       "  0.9627016129032258,\n",
       "  0.96875,\n",
       "  0.9742943548387096,\n",
       "  0.9753024193548387,\n",
       "  0.9768145161290323,\n",
       "  0.9793346774193549,\n",
       "  0.9838709677419355,\n",
       "  0.9848790322580645,\n",
       "  0.9873991935483871,\n",
       "  0.9899193548387096]}"
      ]
     },
     "execution_count": 45,
     "metadata": {},
     "output_type": "execute_result"
    }
   ],
   "source": [
    "qnn_history_2layer.history"
   ]
  },
  {
   "attachments": {},
   "cell_type": "markdown",
   "metadata": {},
   "source": [
    "## Plot the results!"
   ]
  },
  {
   "cell_type": "code",
   "execution_count": 47,
   "metadata": {},
   "outputs": [
    {
     "data": {
      "image/png": "[encoded data removed]",
      "text/plain": [
       "<Figure size 640x480 with 1 Axes>"
      ]
     },
     "metadata": {},
     "output_type": "display_data"
    }
   ],
   "source": [
    "# plot the hinge accuracy for the qnn history for both 1 and 2 layer on the same axes\n",
    "plt.plot(np.arange(1,21), qnn_history_1layer.history[\"hinge_accuracy\"], label=\"TRAIN - 1 layer QNN\")\n",
    "plt.plot(np.arange(1,21), qnn_history_1layer.history[\"val_hinge_accuracy\"], label=\"VAL - 1 layer QNN\")\n",
    "plt.plot(np.arange(1,21), qnn_history_2layer.history[\"hinge_accuracy\"], label=\"TRAIN - 2 layer QNN\")\n",
    "plt.plot(np.arange(1,21), qnn_history_2layer.history[\"val_hinge_accuracy\"], label=\"VAL - 2 layer QNN\")\n",
    "plt.xlabel(\"Epoch\")\n",
    "plt.ylabel(\"Hinge Accuracy\")\n",
    "plt.legend()\n",
    "# modify x_ticks to also include 20\n",
    "plt.xticks(np.arange(0, 21, 2.5))\n",
    "# save as pdf with tight layout and no padding\n",
    "plt.savefig(\"qnn_hinge_accuracy.pdf\", bbox_inches=\"tight\", pad_inches=0)\n",
    "plt.show()"
   ]
  },
  {
   "cell_type": "code",
   "execution_count": 48,
   "metadata": {},
   "outputs": [
    {
     "data": {
      "image/png": "[encoded data removed]",
      "text/plain": [
       "<Figure size 640x480 with 1 Axes>"
      ]
     },
     "metadata": {},
     "output_type": "display_data"
    }
   ],
   "source": [
    "# plot the hinge accuracy for the loss for both 1 and 2 layer on the same axes\n",
    "plt.plot(np.arange(1,21), qnn_history_1layer.history[\"loss\"], label=\"TRAIN - 1 layer QNN\")\n",
    "plt.plot(np.arange(1,21), qnn_history_1layer.history[\"val_loss\"], label=\"VAL - 1 layer QNN\")\n",
    "plt.plot(np.arange(1,21), qnn_history_2layer.history[\"loss\"], label=\"TRAIN - 2 layer QNN\")\n",
    "plt.plot(np.arange(1,21), qnn_history_2layer.history[\"val_loss\"], label=\"VAL - 2 layer QNN\")\n",
    "plt.xlabel(\"Epoch\")\n",
    "plt.ylabel(\"Hinge Loss\")\n",
    "plt.legend()\n",
    "# modify x_ticks to also include 20\n",
    "plt.xticks(np.arange(0, 21, 2.5))\n",
    "# save as pdf with tight layout and no padding\n",
    "plt.savefig(\"qnn_hinge_loss.pdf\", bbox_inches=\"tight\", pad_inches=0)\n",
    "plt.show()"
   ]
  },
  {
   "cell_type": "code",
   "execution_count": null,
   "metadata": {},
   "outputs": [],
   "source": [
    "    #--------------- PLOT CONFUSION MATRIX -----------------\n",
    "    y_pred = model.predict(x_test_sub)\n",
    "    y_pred = np.argmax(y_pred, axis=1)\n",
    "    y_test_sub = np.argmax(y_test_sub, axis=1)\n",
    "    cm = confusion_matrix(y_test_sub, y_pred)\n",
    "    print(cm)\n",
    "    plt.figure(figsize=(10,10))\n",
    "    sns.heatmap(cm, annot=True, fmt=\"d\")\n",
    "    plt.title(\"Confusion matrix\")\n",
    "    plt.ylabel('Actual label')\n",
    "    plt.xlabel('Predicted label')\n",
    "    plt.savefig(\"QML_model_experiment_{}_confusion_matrix.png\".format(key))\n",
    "    plt.clf()\n",
    "    \n",
    "    #--------------- PLOT CLASSIFICATION REPORT -----------------\n",
    "    print(classification_report(y_test_sub, y_pred))\n",
    "    plt.figure(figsize=(10,10))\n",
    "    sns.heatmap(cm/np.sum(cm), annot=True, fmt='.2%', cmap='Blues')\n",
    "    plt.title(\"Confusion matrix\")\n",
    "    plt.ylabel('Actual label')\n",
    "    plt.xlabel('Predicted label')\n",
    "    plt.savefig(\"QML_model_experiment_{}_confusion_matrix_norm.png\".format(key))\n",
    "    plt.clf()\n",
    "\n",
    "    #--------------- PLOT ROC CURVE -----------------\n",
    "    # plot ROC curve using the already calculated metrics\n",
    "    fpr = dict()\n",
    "    tpr = dict()\n",
    "    roc_auc = dict()\n",
    "    for i in range(10):\n",
    "        fpr[i], tpr[i], _ = roc_curve(y_test_sub, y_pred)\n",
    "        roc_auc[i] = auc(fpr[i], tpr[i])\n",
    "    \n",
    "    # Compute micro-average ROC curve and ROC area\n",
    "    fpr[\"micro\"], tpr[\"micro\"], _ = roc_curve(y_test_sub.ravel(), y_pred.ravel())\n",
    "    roc_auc[\"micro\"] = auc(fpr[\"micro\"], tpr[\"micro\"])\n",
    "\n",
    "    # Compute macro-average ROC curve and ROC area\n",
    "    # First aggregate all false positive rates\n",
    "    all_fpr = np.unique(np.concatenate([fpr[i] for i in range(10)]))\n",
    "\n",
    "    # Then interpolate all ROC curves at this points\n",
    "    mean_tpr = np.zeros_like(all_fpr)\n",
    "    for i in range(10):\n",
    "        mean_tpr += interp(all_fpr, fpr[i], tpr[i])\n",
    "\n",
    "    # Finally average it and compute AUC\n",
    "    mean_tpr /= 10\n",
    "\n",
    "    fpr[\"macro\"] = all_fpr\n",
    "    tpr[\"macro\"] = mean_tpr\n",
    "    roc_auc[\"macro\"] = auc(fpr[\"macro\"], tpr[\"macro\"])\n",
    "\n",
    "    # Plot all ROC curves\n",
    "    plt.figure(figsize=(10,10))\n",
    "    plt.plot(fpr[\"micro\"], tpr[\"micro\"],\n",
    "            label='micro-average ROC curve (area = {0:0.2f})'\n",
    "                ''.format(roc_auc[\"micro\"]),\n",
    "            color='deeppink', linestyle=':', linewidth=4)\n",
    "    \n",
    "    plt.plot(fpr[\"macro\"], tpr[\"macro\"],\n",
    "            label='macro-average ROC curve (area = {0:0.2f})'\n",
    "                ''.format(roc_auc[\"macro\"]),\n",
    "            color='navy', linestyle=':', linewidth=4)\n",
    "    \n",
    "    colors = cycle(['aqua', 'darkorange', 'cornflowerblue', 'red', 'green', 'yellow', 'purple', 'pink', 'brown', 'black'])\n",
    "    for i, color in zip(range(10), colors):\n",
    "        plt.plot(fpr[i], tpr[i], color=color, lw=2,\n",
    "                label='ROC curve of class {0} (area = {1:0.2f})'\n",
    "                ''.format(i, roc_auc[i]))\n",
    "    \n",
    "    plt.plot([0, 1], [0, 1], 'k--', lw=2)\n",
    "    plt.xlim([-0.05, 1.0])\n",
    "    plt.ylim([0.0, 1.05])\n",
    "    plt.xlabel('False Positive Rate (FPR)')\n",
    "    plt.ylabel('True Positive Rate (TPR)')\n",
    "    plt.title('Receiver Operating Characteristic (ROC) Curve')\n",
    "    plt.legend(loc=\"lower right\")\n",
    "    plt.savefig(\"QML_model_experiment_{}_roc_curve.png\".format(key))\n",
    "    plt.clf()\n",
    "\n",
    "    #--------------- PLOT PRECISION-RECALL CURVE -----------------\n",
    "    # plot precision-recall curve using the already calculated metrics\n",
    "    precision = dict()\n",
    "    recall = dict()\n",
    "    pr_auc = dict()\n",
    "    for i in range(10):\n",
    "        precision[i], recall[i], _ = precision_recall_curve(y_test_sub, y_pred)\n",
    "        pr_auc[i] = auc(recall[i], precision[i])\n",
    "    \n",
    "    # Compute micro-average ROC curve and ROC area\n",
    "    precision[\"micro\"], recall[\"micro\"], _ = precision_recall_curve(y_test_sub.ravel(), y_pred.ravel())\n",
    "    pr_auc[\"micro\"] = auc(recall[\"micro\"], precision[\"micro\"])\n",
    "\n",
    "    # Compute macro-average ROC curve and ROC area\n",
    "    # First aggregate all false positive rates\n",
    "    all_recall = np.unique(np.concatenate([recall[i] for i in range(10)]))\n",
    "\n",
    "    # Then interpolate all ROC curves at this points\n",
    "    mean_precision = np.zeros_like(all_recall)\n",
    "    for i in range(10):\n",
    "        mean_precision += interp(all_recall, recall[i], precision[i])\n",
    "    \n",
    "    # Finally average it and compute AUC\n",
    "    mean_precision /= 10\n",
    "\n",
    "    recall[\"macro\"] = all_recall\n",
    "    precision[\"macro\"] = mean_precision\n",
    "    pr_auc[\"macro\"] = auc(recall[\"macro\"], precision[\"macro\"])\n",
    "\n",
    "    # Plot all ROC curves\n",
    "    plt.figure(figsize=(10,10))\n",
    "    plt.plot(recall[\"micro\"], precision[\"micro\"],\n",
    "            label='micro-average Precision-Recall curve (area = {0:0.2f})'\n",
    "                ''.format(pr_auc[\"micro\"]),\n",
    "            color='deeppink', linestyle=':', linewidth=4)\n",
    "    \n",
    "    plt.plot(recall[\"macro\"], precision[\"macro\"],\n",
    "            label='macro-average Precision-Recall curve (area = {0:0.2f})'\n",
    "                ''.format(pr_auc[\"macro\"]),\n",
    "            color='navy', linestyle=':', linewidth=4)\n",
    "    \n",
    "    colors = cycle(['aqua', 'darkorange', 'cornflowerblue', 'red', 'green', 'yellow', 'purple', 'pink', 'brown', 'black'])\n",
    "    for i, color in zip(range(10), colors):"
   ]
  },
  {
   "cell_type": "code",
   "execution_count": null,
   "metadata": {},
   "outputs": [],
   "source": [
    " #--------------- SAVE MODEL AS TFLITE -----------------\n",
    "    converter = tf.lite.TFLiteConverter.from_keras_model(model)\n",
    "    tflite_model = converter.convert()\n",
    "    open(\"QML_model_experiment_{}.tflite\".format(key), \"wb\").write(tflite_model)\n",
    "\n",
    "    #--------------- SAVE MODEL AS TFLITE QUANTIZED -----------------\n",
    "    converter = tf.lite.TFLiteConverter.from_keras_model(model)\n",
    "    converter.optimizations = [tf.lite.Optimize.DEFAULT]\n",
    "    tflite_quant_model = converter.convert()\n",
    "    open(\"QML_model_experiment_{}_quantized.tflite\".format(key), \"wb\").write(tflite_quant_model)\n",
    "\n",
    "    #--------------- SAVE MODEL AS TFLITE QUANTIZED WITH POST TRAINING QUANTIZATION -----------------\n",
    "    converter = tf.lite.TFLiteConverter.from_keras_model(model)\n",
    "    converter.optimizations = [tf.lite.Optimize.DEFAULT]\n",
    "    converter.target_spec.supported_ops = [tf.lite.OpsSet.TFLITE_BUILTINS_INT8]\n",
    "    converter.inference_input_type = tf.uint8\n",
    "    converter.inference_output_type = tf.uint8\n",
    "    tflite_quant_model = converter.convert()\n",
    "    open(\"QML_model_experiment_{}_quantized_post_training.tflite\".format(key), \"wb\").write(tflite_quant_model)\n",
    "\n",
    "    #--------------- SAVE MODEL AS TFLITE QUANTIZED WITH POST TRAINING QUANTIZATION AND QUANTIZATION RANGE -----------------\n",
    "    def representative_dataset_gen():\n",
    "        for input_value in tf.data.Dataset.from_tensor_slices(x_train_sub).batch(1).take(100):\n",
    "            yield [input_value]\n",
    "        \n",
    "    converter = tf.lite.TFLiteConverter.from_keras_model(model)\n",
    "    converter.optimizations = [tf.lite.Optimize.DEFAULT]\n",
    "    converter.target_spec.supported_ops = [tf.lite.OpsSet.TFLITE_BUILTINS_INT8]\n",
    "    converter.inference_input_type = tf.uint8\n",
    "    converter.inference_output_type = tf.uint8\n",
    "    converter.representative_dataset = representative_dataset_gen\n",
    "    tflite_quant_model = converter.convert()\n",
    "    open(\"QML_model_experiment_{}_quantized_post_training_quantization_range.tflite\".format(key), \"wb\").write(tflite_quant_model)\n",
    "\n",
    "   \n",
    "    "
   ]
  }
 ],
 "metadata": {
  "kernelspec": {
   "display_name": "tf_gpu_env",
   "language": "python",
   "name": "tf_gpu_env"
  },
  "language_info": {
   "codemirror_mode": {
    "name": "ipython",
    "version": 3
   },
   "file_extension": ".py",
   "mimetype": "text/x-python",
   "name": "python",
   "nbconvert_exporter": "python",
   "pygments_lexer": "ipython3",
   "version": "3.9.13"
  },
  "orig_nbformat": 4,
  "vscode": {
   "interpreter": {
    "hash": "66a612e4ee5d9343e2fda4842cd4535190425ea2d31d59f514fa54a2d33459fb"
   }
  }
 },
 "nbformat": 4,
 "nbformat_minor": 2
}
